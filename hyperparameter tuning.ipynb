{
 "cells": [
  {
   "cell_type": "code",
   "execution_count": 1,
   "id": "8e40d8e2",
   "metadata": {},
   "outputs": [],
   "source": [
    "import numpy as np\n",
    "import pandas as pd\n",
    "import time\n",
    "import warnings\n",
    "from sklearn import metrics, preprocessing, tree\n",
    "from sklearn.metrics import f1_score, make_scorer\n",
    "from sklearn.model_selection import cross_val_score\n",
    "from sklearn.model_selection import GridSearchCV, RandomizedSearchCV\n",
    "from sklearn.model_selection import train_test_split\n",
    "warnings.filterwarnings(\"ignore\")"
   ]
  },
  {
   "cell_type": "code",
   "execution_count": 2,
   "id": "dc0923bf",
   "metadata": {},
   "outputs": [],
   "source": [
    "def timeit(method):\n",
    "    def timed(*args, **kw):\n",
    "        ts = time.time()\n",
    "        result = method(*args, **kw)\n",
    "        te = time.time()\n",
    "        if 'log_time' in kw:\n",
    "            name = kw.get('log_name', method.__name__.upper())\n",
    "            kw['log_time'][name] = int((te - ts) * 1000)\n",
    "        else:\n",
    "            print('%r  %2.2f ms' % \\\n",
    "                  (method.__name__, (te - ts) * 1000))\n",
    "        return result\n",
    "    return timed"
   ]
  },
  {
   "cell_type": "code",
   "execution_count": 3,
   "id": "8b3a7421",
   "metadata": {},
   "outputs": [],
   "source": [
    "file_loc = 'loan_prediction.csv'"
   ]
  },
  {
   "cell_type": "code",
   "execution_count": 5,
   "id": "2517acad",
   "metadata": {},
   "outputs": [],
   "source": [
    "df = pd.read_csv(file_loc)"
   ]
  },
  {
   "cell_type": "code",
   "execution_count": 6,
   "id": "64d094f9",
   "metadata": {},
   "outputs": [
    {
     "data": {
      "text/html": [
       "<div>\n",
       "<style scoped>\n",
       "    .dataframe tbody tr th:only-of-type {\n",
       "        vertical-align: middle;\n",
       "    }\n",
       "\n",
       "    .dataframe tbody tr th {\n",
       "        vertical-align: top;\n",
       "    }\n",
       "\n",
       "    .dataframe thead th {\n",
       "        text-align: right;\n",
       "    }\n",
       "</style>\n",
       "<table border=\"1\" class=\"dataframe\">\n",
       "  <thead>\n",
       "    <tr style=\"text-align: right;\">\n",
       "      <th></th>\n",
       "      <th>ApplicantIncome</th>\n",
       "      <th>CoapplicantIncome</th>\n",
       "      <th>LoanAmount</th>\n",
       "      <th>Loan_Amount_Term</th>\n",
       "      <th>Credit_History</th>\n",
       "      <th>Loan_Status</th>\n",
       "    </tr>\n",
       "  </thead>\n",
       "  <tbody>\n",
       "    <tr>\n",
       "      <th>0</th>\n",
       "      <td>5849</td>\n",
       "      <td>0.0</td>\n",
       "      <td>0.0</td>\n",
       "      <td>360.0</td>\n",
       "      <td>1.0</td>\n",
       "      <td>1</td>\n",
       "    </tr>\n",
       "    <tr>\n",
       "      <th>1</th>\n",
       "      <td>4583</td>\n",
       "      <td>1508.0</td>\n",
       "      <td>128.0</td>\n",
       "      <td>360.0</td>\n",
       "      <td>1.0</td>\n",
       "      <td>0</td>\n",
       "    </tr>\n",
       "    <tr>\n",
       "      <th>2</th>\n",
       "      <td>3000</td>\n",
       "      <td>0.0</td>\n",
       "      <td>66.0</td>\n",
       "      <td>360.0</td>\n",
       "      <td>1.0</td>\n",
       "      <td>1</td>\n",
       "    </tr>\n",
       "    <tr>\n",
       "      <th>3</th>\n",
       "      <td>2583</td>\n",
       "      <td>2358.0</td>\n",
       "      <td>120.0</td>\n",
       "      <td>360.0</td>\n",
       "      <td>1.0</td>\n",
       "      <td>1</td>\n",
       "    </tr>\n",
       "    <tr>\n",
       "      <th>4</th>\n",
       "      <td>6000</td>\n",
       "      <td>0.0</td>\n",
       "      <td>141.0</td>\n",
       "      <td>360.0</td>\n",
       "      <td>1.0</td>\n",
       "      <td>1</td>\n",
       "    </tr>\n",
       "  </tbody>\n",
       "</table>\n",
       "</div>"
      ],
      "text/plain": [
       "   ApplicantIncome  CoapplicantIncome  LoanAmount  Loan_Amount_Term  \\\n",
       "0             5849                0.0         0.0             360.0   \n",
       "1             4583             1508.0       128.0             360.0   \n",
       "2             3000                0.0        66.0             360.0   \n",
       "3             2583             2358.0       120.0             360.0   \n",
       "4             6000                0.0       141.0             360.0   \n",
       "\n",
       "   Credit_History  Loan_Status  \n",
       "0             1.0            1  \n",
       "1             1.0            0  \n",
       "2             1.0            1  \n",
       "3             1.0            1  \n",
       "4             1.0            1  "
      ]
     },
     "execution_count": 6,
     "metadata": {},
     "output_type": "execute_result"
    }
   ],
   "source": [
    "df.head()"
   ]
  },
  {
   "cell_type": "code",
   "execution_count": 7,
   "id": "8e1b93a8",
   "metadata": {},
   "outputs": [
    {
     "data": {
      "text/plain": [
       "(614, 6)"
      ]
     },
     "execution_count": 7,
     "metadata": {},
     "output_type": "execute_result"
    }
   ],
   "source": [
    "df.shape"
   ]
  },
  {
   "cell_type": "code",
   "execution_count": 9,
   "id": "68c0c043",
   "metadata": {},
   "outputs": [
    {
     "data": {
      "text/plain": [
       "DecisionTreeClassifier()"
      ]
     },
     "execution_count": 9,
     "metadata": {},
     "output_type": "execute_result"
    }
   ],
   "source": [
    "from sklearn.tree import DecisionTreeClassifier as dt\n",
    "clf = dt()\n",
    "clf"
   ]
  },
  {
   "cell_type": "code",
   "execution_count": 10,
   "id": "65b8d720",
   "metadata": {},
   "outputs": [],
   "source": [
    "X = df.iloc[:,0:len(df.columns)-1].values\n",
    "Y = df.iloc[:,-1].values"
   ]
  },
  {
   "cell_type": "code",
   "execution_count": 11,
   "id": "ea09a825",
   "metadata": {},
   "outputs": [
    {
     "data": {
      "text/plain": [
       "(614, 5)"
      ]
     },
     "execution_count": 11,
     "metadata": {},
     "output_type": "execute_result"
    }
   ],
   "source": [
    "X.shape"
   ]
  },
  {
   "cell_type": "code",
   "execution_count": 12,
   "id": "49f7fd3e",
   "metadata": {},
   "outputs": [
    {
     "data": {
      "text/plain": [
       "(614,)"
      ]
     },
     "execution_count": 12,
     "metadata": {},
     "output_type": "execute_result"
    }
   ],
   "source": [
    "Y.shape"
   ]
  },
  {
   "cell_type": "code",
   "execution_count": 13,
   "id": "683420a5",
   "metadata": {},
   "outputs": [],
   "source": [
    "X_train,X_test,Y_train,Y_test = train_test_split(X, Y, test_size=0.25, random_state=0)"
   ]
  },
  {
   "cell_type": "code",
   "execution_count": 14,
   "id": "0b27f8ce",
   "metadata": {},
   "outputs": [
    {
     "data": {
      "text/plain": [
       "(460, 5)"
      ]
     },
     "execution_count": 14,
     "metadata": {},
     "output_type": "execute_result"
    }
   ],
   "source": [
    "X_train.shape"
   ]
  },
  {
   "cell_type": "code",
   "execution_count": 15,
   "id": "733cbff3",
   "metadata": {},
   "outputs": [
    {
     "data": {
      "text/plain": [
       "(154, 5)"
      ]
     },
     "execution_count": 15,
     "metadata": {},
     "output_type": "execute_result"
    }
   ],
   "source": [
    "X_test.shape"
   ]
  },
  {
   "cell_type": "code",
   "execution_count": 16,
   "id": "68aba176",
   "metadata": {},
   "outputs": [],
   "source": [
    "scores = cross_val_score(clf, X_train, Y_train, cv=5, scoring='f1_macro')"
   ]
  },
  {
   "cell_type": "code",
   "execution_count": 17,
   "id": "7e02f168",
   "metadata": {},
   "outputs": [
    {
     "data": {
      "text/plain": [
       "0.626523910524835"
      ]
     },
     "execution_count": 17,
     "metadata": {},
     "output_type": "execute_result"
    }
   ],
   "source": [
    "scores.mean()"
   ]
  },
  {
   "cell_type": "code",
   "execution_count": 18,
   "id": "9f7093b5",
   "metadata": {},
   "outputs": [],
   "source": [
    "# Fit the model\n",
    "clf.fit(X_train, Y_train)\n",
    "# Make predictions\n",
    "train_predictions = clf.predict(X_train)\n",
    "test_predictions = clf.predict(X_test)"
   ]
  },
  {
   "cell_type": "code",
   "execution_count": 19,
   "id": "932fee07",
   "metadata": {},
   "outputs": [
    {
     "data": {
      "text/plain": [
       "DecisionTreeClassifier()"
      ]
     },
     "execution_count": 19,
     "metadata": {},
     "output_type": "execute_result"
    }
   ],
   "source": [
    "clf"
   ]
  },
  {
   "cell_type": "code",
   "execution_count": 20,
   "id": "c9707000",
   "metadata": {},
   "outputs": [],
   "source": [
    "train_cols = df.columns[0:len(df.columns)-1]"
   ]
  },
  {
   "cell_type": "code",
   "execution_count": 21,
   "id": "c8b0a173",
   "metadata": {},
   "outputs": [],
   "source": [
    "target_cols = df.columns[-1]"
   ]
  },
  {
   "cell_type": "code",
   "execution_count": 22,
   "id": "669e24bf",
   "metadata": {},
   "outputs": [
    {
     "name": "stdout",
     "output_type": "stream",
     "text": [
      "The Training F1 Score is 1.0\n",
      "The Testing F1 Score is 0.7522935779816514\n"
     ]
    }
   ],
   "source": [
    "print('The Training F1 Score is', f1_score(train_predictions, Y_train))\n",
    "print('The Testing F1 Score is', f1_score(test_predictions, Y_test))"
   ]
  },
  {
   "cell_type": "code",
   "execution_count": 23,
   "id": "81fcca3f",
   "metadata": {},
   "outputs": [],
   "source": [
    "parameters = {'max_depth':[1,2,3,4,5], \n",
    "              'min_samples_leaf':[1,2,3,4,5], \n",
    "              'min_samples_split':[2,3,4,5],\n",
    "              'criterion' : ['gini','entropy']}\n",
    "scorer = make_scorer(f1_score)"
   ]
  },
  {
   "cell_type": "code",
   "execution_count": 24,
   "id": "fc63cda5",
   "metadata": {},
   "outputs": [],
   "source": [
    "@timeit\n",
    "def generate_clf_from_search(grid_or_random, clf, parameters, scorer, X, y):\n",
    "    if grid_or_random == \"Grid\":\n",
    "        search_obj = GridSearchCV(clf, parameters, scoring=scorer)\n",
    "    elif grid_or_random == \"Random\":\n",
    "        search_obj = RandomizedSearchCV(clf, parameters, scoring=scorer)\n",
    "    fit_obj = search_obj.fit(X, y)\n",
    "    best_clf = fit_obj.best_estimator_\n",
    "    return best_clf"
   ]
  },
  {
   "cell_type": "code",
   "execution_count": 25,
   "id": "93d34f02",
   "metadata": {},
   "outputs": [
    {
     "name": "stdout",
     "output_type": "stream",
     "text": [
      "'generate_clf_from_search'  3260.84 ms\n"
     ]
    }
   ],
   "source": [
    "best_clf_grid = generate_clf_from_search(\"Grid\", \n",
    "                                         clf, \n",
    "                                         parameters, \n",
    "                                         scorer, \n",
    "                                         X_train, \n",
    "                                         Y_train)"
   ]
  },
  {
   "cell_type": "code",
   "execution_count": 26,
   "id": "e0bc6392",
   "metadata": {},
   "outputs": [
    {
     "data": {
      "text/plain": [
       "0.7058924321624135"
      ]
     },
     "execution_count": 26,
     "metadata": {},
     "output_type": "execute_result"
    }
   ],
   "source": [
    "scores = cross_val_score(best_clf_grid, X_train, Y_train, cv=5, scoring='f1_macro')\n",
    "scores.mean()"
   ]
  },
  {
   "cell_type": "code",
   "execution_count": 27,
   "id": "bef0c60d",
   "metadata": {},
   "outputs": [
    {
     "name": "stdout",
     "output_type": "stream",
     "text": [
      "The training F1 Score is 0.8360902255639098\n",
      "The testing F1 Score is 0.8620689655172413\n"
     ]
    }
   ],
   "source": [
    "best_clf_grid.fit(X_train, Y_train)\n",
    "# Make predictions using the new model.\n",
    "best_train_predictions = best_clf_grid.predict(X_train)\n",
    "best_test_predictions = best_clf_grid.predict(X_test)\n",
    "\n",
    "# Calculate the f1_score of the new model.\n",
    "print('The training F1 Score is', f1_score(best_train_predictions, Y_train))\n",
    "print('The testing F1 Score is', f1_score(best_test_predictions, Y_test))"
   ]
  },
  {
   "cell_type": "code",
   "execution_count": 28,
   "id": "0b6d3ca6",
   "metadata": {},
   "outputs": [
    {
     "name": "stdout",
     "output_type": "stream",
     "text": [
      "'generate_clf_from_search'  266.18 ms\n"
     ]
    }
   ],
   "source": [
    "best_clf_random = generate_clf_from_search(\"Random\", \n",
    "                                           clf, \n",
    "                                           parameters, \n",
    "                                           scorer, \n",
    "                                           X_train, \n",
    "                                           Y_train)"
   ]
  },
  {
   "cell_type": "code",
   "execution_count": 29,
   "id": "921fc7c2",
   "metadata": {},
   "outputs": [
    {
     "data": {
      "text/plain": [
       "0.7058924321624135"
      ]
     },
     "execution_count": 29,
     "metadata": {},
     "output_type": "execute_result"
    }
   ],
   "source": [
    "scores = cross_val_score(best_clf_random, X_train, Y_train, cv=5, scoring='f1_macro')\n",
    "scores.mean()"
   ]
  },
  {
   "cell_type": "code",
   "execution_count": 30,
   "id": "5dbedb11",
   "metadata": {},
   "outputs": [
    {
     "name": "stdout",
     "output_type": "stream",
     "text": [
      "The training F1 Score is 0.8360902255639098\n",
      "The testing F1 Score is 0.8620689655172413\n"
     ]
    }
   ],
   "source": [
    "best_clf_random.fit(X_train, Y_train)\n",
    "# Make predictions using the new model.\n",
    "best_train_predictions = best_clf_random.predict(X_train)\n",
    "best_test_predictions = best_clf_random.predict(X_test)\n",
    "\n",
    "# Calculate the f1_score of the new model.\n",
    "print('The training F1 Score is', f1_score(best_train_predictions, Y_train))\n",
    "print('The testing F1 Score is', f1_score(best_test_predictions, Y_test))"
   ]
  },
  {
   "cell_type": "code",
   "execution_count": null,
   "id": "03d78516",
   "metadata": {},
   "outputs": [],
   "source": []
  }
 ],
 "metadata": {
  "kernelspec": {
   "display_name": "Python 3 (ipykernel)",
   "language": "python",
   "name": "python3"
  },
  "language_info": {
   "codemirror_mode": {
    "name": "ipython",
    "version": 3
   },
   "file_extension": ".py",
   "mimetype": "text/x-python",
   "name": "python",
   "nbconvert_exporter": "python",
   "pygments_lexer": "ipython3",
   "version": "3.9.13"
  }
 },
 "nbformat": 4,
 "nbformat_minor": 5
}
