{
 "cells": [
  {
   "cell_type": "markdown",
   "metadata": {
    "id": "vlRULrW5KHn_"
   },
   "source": [
    "## Exercise 1\n",
    "\n",
    "First, lets make a common array to work with."
   ]
  },
  {
   "cell_type": "code",
   "execution_count": 1,
   "metadata": {
    "id": "V7mKtpyKKHoO",
    "outputId": "b8e3c10c-6cf2-4ef9-9681-da86fc47e66b"
   },
   "outputs": [
    {
     "data": {
      "text/plain": [
       "array([[ 80842, 333008, 202553, 140037,  81969],\n",
       "       [ 63857,  42105, 261540, 481981, 176739],\n",
       "       [489984, 326386, 110795, 394863,  25024],\n",
       "       [ 38317,  49982, 408830, 485118,  16119],\n",
       "       [407675, 231729, 265455, 109413, 103399],\n",
       "       [174677, 343356, 301717, 224120, 401101],\n",
       "       [140473, 254634, 112262,  25063, 108262],\n",
       "       [375059, 406983, 208947, 115641, 296685],\n",
       "       [444899, 129585, 171318, 313094, 425041],\n",
       "       [188411, 335140, 141681,  59641, 211420],\n",
       "       [287650,   8973, 477425, 382803, 465168],\n",
       "       [  3975,  32213, 160603, 275485, 388234],\n",
       "       [246225,  56174, 244097,   9350, 496966],\n",
       "       [225516, 273338,  73335, 283013, 212813],\n",
       "       [ 38175, 282399, 318413, 337639, 379802],\n",
       "       [198049, 101115, 419547, 260219, 325793],\n",
       "       [148593, 425024, 348570, 117968, 107007],\n",
       "       [ 52547, 180346, 178760, 305186, 262153],\n",
       "       [ 11835, 449971, 494184, 472031, 353049],\n",
       "       [476442,  35455, 191553, 384154,  29917]])"
      ]
     },
     "execution_count": 1,
     "metadata": {},
     "output_type": "execute_result"
    }
   ],
   "source": [
    "import numpy as np\n",
    "np.random.seed(21) # This guarantees the code will generate the same set of random numbers whenever executed\n",
    "random_integers = np.random.randint(1,high=500000, size=(20, 5))\n",
    "random_integers"
   ]
  },
  {
   "cell_type": "markdown",
   "metadata": {
    "id": "l4j0yIMIKHoZ"
   },
   "source": [
    "### 1) What is the average value of the second column (to two decimal places)"
   ]
  },
  {
   "cell_type": "code",
   "execution_count": 2,
   "metadata": {
    "id": "fk1Kw71fKHob"
   },
   "outputs": [
    {
     "data": {
      "text/plain": [
       "array([202553, 261540, 110795, 408830, 265455, 301717, 112262, 208947,\n",
       "       171318, 141681, 477425, 160603, 244097,  73335, 318413, 419547,\n",
       "       348570, 178760, 494184, 191553])"
      ]
     },
     "execution_count": 2,
     "metadata": {},
     "output_type": "execute_result"
    }
   ],
   "source": [
    "random_integers[:,2]"
   ]
  },
  {
   "cell_type": "markdown",
   "metadata": {
    "id": "03XWjZgjKHoc"
   },
   "source": [
    "### 2) What is the average value of the first 5 rows of the third and fourth columns?"
   ]
  },
  {
   "cell_type": "code",
   "execution_count": null,
   "metadata": {
    "id": "g8HLvsBQKHod"
   },
   "outputs": [],
   "source": []
  },
  {
   "cell_type": "markdown",
   "metadata": {
    "id": "slM52OCRKHoe"
   },
   "source": [
    "## Exercise 2 ##\n",
    "\n",
    "### 1) **Close Python**. On a piece of paper, write down the final result of the following codes:"
   ]
  },
  {
   "cell_type": "markdown",
   "metadata": {
    "id": "5qxYTuKoKHof"
   },
   "source": [
    "*  \n",
    "```python\n",
    "first_matrix = np.array([[1, 2, 3], [4, 5, 6]])\n",
    "second_matrix = np.array([1, 2, 3])\n",
    "first_matrix + second_matrix\n",
    "```\n",
    "*\n",
    "```python\n",
    "my_vector = np.array([1, 2, 3, 4, 5, 6])\n",
    "selection = my_vector % 2 == 0\n",
    "my_vector[selection]\n",
    "```"
   ]
  },
  {
   "cell_type": "markdown",
   "metadata": {
    "id": "9xcBvzBgKHoh"
   },
   "source": [
    "### 2) Open python and check your answers."
   ]
  },
  {
   "cell_type": "markdown",
   "metadata": {
    "id": "20pMUDPmKHoj"
   },
   "source": [
    "## Copies and views\n",
    "\n",
    "One of the nuances of `numpy` can can easily lead to problems is that when one takes a slice of an array, one does not actually get a new array; rather, one is given a \"view\" on the original array, meaning they are sharing the same underlying data.\n",
    "\n",
    "This is similar to the idea that variables are just pointers, and that different variables may point to the same object. But it is slightly different in that if two variables both point to the same `set`, the two variables will behave the same way. But if one variable points to an array, and a second variable is a *slice* of that array, they are both accessing the same data in the same array, but they present it differently. For example:"
   ]
  },
  {
   "cell_type": "code",
   "execution_count": 3,
   "metadata": {
    "id": "ZfvgCFk-KHol",
    "outputId": "2755d93c-6be3-46cf-c733-157f50c43e51"
   },
   "outputs": [
    {
     "data": {
      "text/plain": [
       "array([1, 2, 3, 4])"
      ]
     },
     "execution_count": 3,
     "metadata": {},
     "output_type": "execute_result"
    }
   ],
   "source": [
    "import numpy as np\n",
    "my_array = np.array([1, 2, 3, 4])\n",
    "my_array"
   ]
  },
  {
   "cell_type": "code",
   "execution_count": 4,
   "metadata": {
    "id": "bfG6DOyFKHon",
    "outputId": "58830dbe-29be-4451-de65-7f4ad3292392"
   },
   "outputs": [
    {
     "data": {
      "text/plain": [
       "array([2, 3])"
      ]
     },
     "execution_count": 4,
     "metadata": {},
     "output_type": "execute_result"
    }
   ],
   "source": [
    "my_slice = my_array[1:3]\n",
    "my_slice"
   ]
  },
  {
   "cell_type": "markdown",
   "metadata": {
    "id": "IWC35KZ6KHoo"
   },
   "source": [
    "Since `my_array` and `my_slice` are both pointing to the same underlying data, changes to one will propagate to the other. For example, if I modify the `2` entry in `my_slice`, it will appear in `my_array`:"
   ]
  },
  {
   "cell_type": "code",
   "execution_count": 5,
   "metadata": {
    "id": "dybpNbRkKHoq",
    "outputId": "dbffad87-46e0-4491-9ba3-ddc8a6a17b54"
   },
   "outputs": [
    {
     "data": {
      "text/plain": [
       "array([-1,  3])"
      ]
     },
     "execution_count": 5,
     "metadata": {},
     "output_type": "execute_result"
    }
   ],
   "source": [
    "my_slice[0] = -1\n",
    "my_slice"
   ]
  },
  {
   "cell_type": "code",
   "execution_count": 6,
   "metadata": {
    "id": "_NKOXnElKHos",
    "outputId": "dd4d494a-0c8d-468d-fc87-1538427f225c"
   },
   "outputs": [
    {
     "data": {
      "text/plain": [
       "array([ 1, -1,  3,  4])"
      ]
     },
     "execution_count": 6,
     "metadata": {},
     "output_type": "execute_result"
    }
   ],
   "source": [
    "my_array"
   ]
  },
  {
   "cell_type": "markdown",
   "metadata": {
    "id": "aVkPgq9uKHot"
   },
   "source": [
    "But while `my_array` and `my_slice` are accessing the same underlying data, they are indexed differently. We changed the first item (index `0` in `my_slice`, but that change impacted the entry in the second position of `my_array` (index `1`):"
   ]
  },
  {
   "cell_type": "code",
   "execution_count": 7,
   "metadata": {
    "id": "bn9zEtP0KHou",
    "outputId": "82f60ba8-d1ef-4ec1-c26d-1db512e1d8a3"
   },
   "outputs": [
    {
     "data": {
      "text/plain": [
       "-1"
      ]
     },
     "execution_count": 7,
     "metadata": {},
     "output_type": "execute_result"
    }
   ],
   "source": [
    "my_array[1]"
   ]
  },
  {
   "cell_type": "markdown",
   "metadata": {
    "id": "QE_JZSHkKHow"
   },
   "source": [
    "It is also worth emphasizing at this point that while slices will get you a view of an array, if you slice a Python **list**, you get a new object. This \"view\" behavior is entirely limited to `numpy`."
   ]
  },
  {
   "cell_type": "code",
   "execution_count": 8,
   "metadata": {
    "id": "KsiWXBpfKHox",
    "outputId": "a51decc7-e44f-4e00-ceda-46c14fb377a5"
   },
   "outputs": [
    {
     "data": {
      "text/plain": [
       "['a change', 2]"
      ]
     },
     "execution_count": 8,
     "metadata": {},
     "output_type": "execute_result"
    }
   ],
   "source": [
    "x = [1, 2, 3]\n",
    "y = x[0:2]\n",
    "y[0] = \"a change\"\n",
    "y"
   ]
  },
  {
   "cell_type": "code",
   "execution_count": 9,
   "metadata": {
    "id": "acLxK5iYKHoz",
    "outputId": "50a458a9-1da1-4a3e-bfd6-2e95b39091f3"
   },
   "outputs": [
    {
     "data": {
      "text/plain": [
       "[1, 2, 3]"
      ]
     },
     "execution_count": 9,
     "metadata": {},
     "output_type": "execute_result"
    }
   ],
   "source": [
    "x"
   ]
  },
  {
   "cell_type": "markdown",
   "metadata": {
    "id": "frSxt9FWKHo3"
   },
   "source": [
    "### When do you get a view, and when do you get a copy?\n",
    "\n",
    "OK, now the *really* annoying thing: when do I get a view, and when do I get a copy?\n",
    "\n",
    "Generally speaking:\n",
    "\n",
    "- **you get a view if you do a plain, basic slice of an array,** and\n",
    "- **the view remains a view if you edit it by modifying it using basic indexing (i.e. you use `[]` on the left side of the assignment operator).**\n",
    "\n",
    "Outside of those two behaviors, you will usually get a copy.\n",
    "\n",
    "So, for example, this slice will get you a view:"
   ]
  },
  {
   "cell_type": "code",
   "execution_count": null,
   "metadata": {
    "id": "8UJU4efbKHo4",
    "outputId": "2ee91ac7-a052-43c5-d418-d3c036d7e853"
   },
   "outputs": [
    {
     "data": {
      "text/plain": [
       "array([ 1, -1,  3])"
      ]
     },
     "execution_count": 11,
     "metadata": {},
     "output_type": "execute_result"
    }
   ],
   "source": [
    "my_array = np.array([1, 2, 3])\n",
    "my_slice = my_array[1:3]\n",
    "my_slice[0] = -1\n",
    "my_array"
   ]
  },
  {
   "cell_type": "markdown",
   "metadata": {
    "id": "J-xS68d7KHo6"
   },
   "source": [
    "But if you use \"fancy indexing\" (where you pass a list when making your slice), you will NOT get a view:"
   ]
  },
  {
   "cell_type": "code",
   "execution_count": 10,
   "metadata": {
    "id": "2TE9_zShKHo7",
    "outputId": "e1a88c06-8e26-4b08-be81-8dd5d475e9af"
   },
   "outputs": [
    {
     "data": {
      "text/plain": [
       "array([1, 2, 3])"
      ]
     },
     "execution_count": 10,
     "metadata": {},
     "output_type": "execute_result"
    }
   ],
   "source": [
    "my_array = np.array([1, 2, 3])\n",
    "my_slice = my_array[[1,2]]\n",
    "my_slice[0] = -1\n",
    "my_array"
   ]
  },
  {
   "cell_type": "markdown",
   "metadata": {
    "id": "AOVtkSahKHo9"
   },
   "source": [
    "Similarly, if you edit using basic indexing (like we did above), those edits will propogate from the slice back to the originally array (or the other way around).\n",
    "\n",
    "But if you modify a slice without using basic indexing, you get a copy, so changes won't propagate:"
   ]
  },
  {
   "cell_type": "code",
   "execution_count": 11,
   "metadata": {
    "id": "wI-8LZGlKHo-",
    "outputId": "6859a19c-c7b8-4a3b-a75f-2da0ff54f05c"
   },
   "outputs": [
    {
     "data": {
      "text/plain": [
       "array([4, 6])"
      ]
     },
     "execution_count": 11,
     "metadata": {},
     "output_type": "execute_result"
    }
   ],
   "source": [
    "my_array = np.array([1, 2, 3])\n",
    "my_slice = my_array[1:3]\n",
    "my_slice = my_slice * 2\n",
    "my_slice"
   ]
  },
  {
   "cell_type": "code",
   "execution_count": null,
   "metadata": {
    "id": "V_ngZojBKHo_",
    "outputId": "95cd88cc-b020-4dac-cb62-2be2ad6a00c8"
   },
   "outputs": [
    {
     "data": {
      "text/plain": [
       "array([1, 2, 3])"
      ]
     },
     "execution_count": 14,
     "metadata": {},
     "output_type": "execute_result"
    }
   ],
   "source": [
    "my_array"
   ]
  },
  {
   "cell_type": "markdown",
   "metadata": {
    "id": "KxCmFp1pKHpB"
   },
   "source": [
    "(If you want to do a full-array manipulation and preserve your view, always use square brackets on the left side of the assignment operator (`=`):"
   ]
  },
  {
   "cell_type": "code",
   "execution_count": null,
   "metadata": {
    "id": "17ClR90fKHpC",
    "outputId": "8e25f498-4393-40d6-e274-789a98c23bbf"
   },
   "outputs": [
    {
     "data": {
      "text/plain": [
       "array([4, 6])"
      ]
     },
     "execution_count": 15,
     "metadata": {},
     "output_type": "execute_result"
    }
   ],
   "source": [
    "my_array = np.array([1, 2, 3])\n",
    "my_slice = my_array[1:3]\n",
    "my_slice[:] = my_slice * 2\n",
    "my_slice"
   ]
  },
  {
   "cell_type": "code",
   "execution_count": null,
   "metadata": {
    "id": "3PeWUXjSKHpD",
    "outputId": "791df53b-4b3f-4de5-a47d-582fed078c09"
   },
   "outputs": [
    {
     "data": {
      "text/plain": [
       "array([1, 4, 6])"
      ]
     },
     "execution_count": 16,
     "metadata": {},
     "output_type": "execute_result"
    }
   ],
   "source": [
    "my_array"
   ]
  },
  {
   "cell_type": "markdown",
   "metadata": {
    "id": "VT2kl6ERKHpF"
   },
   "source": [
    "## How to Manage Views In Your Work"
   ]
  },
  {
   "cell_type": "markdown",
   "metadata": {
    "id": "Edi6XFRZKHpG"
   },
   "source": [
    "Views exist because they are more memory efficient (a view doesn't require making a new copy of data) and faster (again, no copying required). And if you're doing super-computer simulations where every milisecond counts, or working with truely huge datasets, this is important.\n",
    "\n",
    "This is especially true since there's no reliable way to check if two arrays are views of one another except by modifying one and seeing if the other changes.  The way we use `is` in regular Python to see if two variables point at the same object doesn't work for numpy arrays. Thus its on you to remember the rules.\n",
    "\n",
    "**Advice on copies:** UNLESS YOU REALLY NEED A VIEW AND ARE BEING SUPER CAREFUL: don't use views for anything but *looking* at data. If you ever want to *modify* or *work with* a sub-array, just make a copy to be safe. Computers are fast enough and ram is plentiful enough that for most applications, it's almost never a problem."
   ]
  },
  {
   "cell_type": "markdown",
   "metadata": {
    "id": "jN6LmtFCKHpI"
   },
   "source": [
    "## Exercise 3\n",
    "\n",
    "**Close Python**. Let's try and work out a few problems in our heads to test our understanding of `numpy` views. Let's start with the following array:"
   ]
  },
  {
   "cell_type": "code",
   "execution_count": null,
   "metadata": {
    "id": "UaXxV1JwKHpJ",
    "outputId": "91bb97cd-5f11-46c5-a47e-6ca2dd028a96"
   },
   "outputs": [
    {
     "name": "stdout",
     "output_type": "stream",
     "text": [
      "[[1 2 3]\n",
      " [4 5 6]]\n"
     ]
    }
   ],
   "source": [
    "my_array = np.array([[1, 2, 3], [4, 5, 6]])\n",
    "print(my_array)"
   ]
  },
  {
   "cell_type": "markdown",
   "metadata": {
    "id": "wRnlo-fmKHpL"
   },
   "source": [
    "### 1) On a piece of paper write down the value of `my_slice = my_array[:, 1:3]`.\n",
    "### 2) What does `my_slice` look like when we run each of the following code :\n",
    " * `my_array[:, :] = my_array * 2` ?\n",
    " * `my_array = my_array * 2`?\n",
    "\n",
    "### 3) Now open Python, and try running these examples. Were your predictions correct? If not, why not?"
   ]
  },
  {
   "cell_type": "markdown",
   "metadata": {
    "id": "sJ1eWzH_KHpM"
   },
   "source": [
    "## Exercise 4\n",
    "\n",
    "Let's close Python again and go back to pen and paper. Let's also reset `my_array` and start over with the following code:"
   ]
  },
  {
   "cell_type": "code",
   "execution_count": null,
   "metadata": {
    "id": "f8NY2i96KHpN",
    "outputId": "ead06cbf-a6f5-49cb-ffe8-7d7ec9844d92"
   },
   "outputs": [
    {
     "name": "stdout",
     "output_type": "stream",
     "text": [
      "[[1 2 3]\n",
      " [4 5 6]]\n"
     ]
    }
   ],
   "source": [
    "my_array = np.array([[1, 2, 3], [4, 5, 6]])\n",
    "print(my_array)"
   ]
  },
  {
   "cell_type": "code",
   "execution_count": null,
   "metadata": {
    "id": "Je1K7T5BKHpO",
    "outputId": "fc1d67fb-984d-480f-b422-f27e35942e40"
   },
   "outputs": [
    {
     "name": "stdout",
     "output_type": "stream",
     "text": [
      "[[2 3]\n",
      " [5 6]]\n"
     ]
    }
   ],
   "source": [
    "my_slice = my_array[:, 1:3].copy()\n",
    "print(my_slice)"
   ]
  },
  {
   "cell_type": "markdown",
   "metadata": {
    "id": "sMVFCmaSKHpO"
   },
   "source": [
    "Now suppose we run the following code: `my_array[:, :] = my_array * 2`. What does `my_slice` look like?"
   ]
  },
  {
   "cell_type": "code",
   "execution_count": null,
   "metadata": {
    "id": "Ol-iCA9uKHpi"
   },
   "outputs": [],
   "source": []
  }
 ],
 "metadata": {
  "colab": {
   "provenance": []
  },
  "kernelspec": {
   "display_name": "Python 3 (ipykernel)",
   "language": "python",
   "name": "python3"
  },
  "language_info": {
   "codemirror_mode": {
    "name": "ipython",
    "version": 3
   },
   "file_extension": ".py",
   "mimetype": "text/x-python",
   "name": "python",
   "nbconvert_exporter": "python",
   "pygments_lexer": "ipython3",
   "version": "3.9.13"
  }
 },
 "nbformat": 4,
 "nbformat_minor": 4
}
