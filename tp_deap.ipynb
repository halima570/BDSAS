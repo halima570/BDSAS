{
 "cells": [
  {
   "cell_type": "code",
   "execution_count": 42,
   "id": "3a6cf6f3",
   "metadata": {},
   "outputs": [],
   "source": [
    "import numpy as np\n",
    "from sklearn.datasets import load_iris\n",
    "from sklearn.model_selection import train_test_split\n",
    "from sklearn.neural_network import MLPClassifier\n",
    "from sklearn.metrics import accuracy_score\n",
    "from deap import base, creator, tools, algorithms\n",
    "import random\n",
    "\n",
    "# Chargement du dataset Iris\n",
    "iris = load_iris()\n",
    "X, y = iris.data, iris.target\n",
    "\n",
    "# Séparation des données en ensemble d'entraînement et ensemble de test\n",
    "X_train, X_test, y_train, y_test = train_test_split(X, y, test_size=0.3, random_state=42)\n"
   ]
  },
  {
   "cell_type": "code",
   "execution_count": 43,
   "id": "d120aef0",
   "metadata": {},
   "outputs": [],
   "source": [
    "def evaluate(individual):\n",
    "    learning_rate = np.random.uniform(0.0001,1.0) # Ensure positive learning rate\n",
    "    # Create the MLPClassifier with the adaptive learning rate strategy\n",
    "    clf = MLPClassifier(hidden_layer_sizes=(13, 13, 3), max_iter=15000, learning_rate='adaptive',\n",
    "                        learning_rate_init=learning_rate, random_state=42)\n",
    "    clf.fit(X_train, y_train)\n",
    "    # Prediction on the test set\n",
    "    y_pred = clf.predict(X_test)\n",
    "    # Calculate accuracy\n",
    "    accuracy = accuracy_score(y_test, y_pred)\n",
    "    return accuracy,\n"
   ]
  },
  {
   "cell_type": "code",
   "execution_count": 44,
   "id": "ab968dd0",
   "metadata": {},
   "outputs": [
    {
     "name": "stderr",
     "output_type": "stream",
     "text": [
      "C:\\Users\\LENOVO\\anaconda3\\lib\\site-packages\\deap\\creator.py:185: RuntimeWarning: A class named 'FitnessMax' has already been created and it will be overwritten. Consider deleting previous creation of that class or rename it.\n",
      "  warnings.warn(\"A class named '{0}' has already been created and it \"\n",
      "C:\\Users\\LENOVO\\anaconda3\\lib\\site-packages\\deap\\creator.py:185: RuntimeWarning: A class named 'Individual' has already been created and it will be overwritten. Consider deleting previous creation of that class or rename it.\n",
      "  warnings.warn(\"A class named '{0}' has already been created and it \"\n"
     ]
    }
   ],
   "source": [
    "# Définition des paramètres DEAP\n",
    "creator.create(\"FitnessMax\", base.Fitness, weights=(1.0,))\n",
    "creator.create(\"Individual\", list, fitness=creator.FitnessMax)\n",
    "toolbox = base.Toolbox()\n",
    "\n",
    "toolbox.register(\"attr_float\", random.uniform, 0.0001, 1.0)  # Initial learning rate entre 0.001 and 0.1\n",
    "\n",
    "# Taux d'apprentissage entre 0.001 et 0.1\n",
    "toolbox.register(\"individual\", tools.initRepeat, creator.Individual, toolbox.attr_float, n=1)#cree un individu (liste contient seul attribus toux d'apprentissage)\n",
    "toolbox.register(\"population\", tools.initRepeat, list, toolbox.individual)\n",
    "toolbox.register(\"evaluate\", evaluate)\n",
    "toolbox.register(\"mate\", tools.cxBlend, alpha=0.5)#croisement\n",
    "toolbox.register(\"mutate\", tools.mutGaussian, mu=0, sigma=0.05, indpb=0.2)#mutation\n",
    "toolbox.register(\"select\", tools.selTournament, tournsize=3)#selection\n",
    "\n"
   ]
  },
  {
   "cell_type": "code",
   "execution_count": 45,
   "id": "b7f737b1",
   "metadata": {},
   "outputs": [
    {
     "name": "stdout",
     "output_type": "stream",
     "text": [
      "gen\tnevals\n",
      "0  \t4     \n",
      "1  \t0     \n",
      "2  \t3     \n",
      "3  \t4     \n",
      "4  \t2     \n",
      "5  \t0     \n",
      "6  \t4     \n",
      "7  \t2     \n",
      "8  \t3     \n",
      "9  \t3     \n",
      "10 \t3     \n",
      "11 \t2     \n",
      "12 \t1     \n",
      "13 \t4     \n",
      "14 \t2     \n",
      "15 \t2     \n",
      "16 \t2     \n",
      "17 \t2     \n",
      "18 \t4     \n",
      "19 \t4     \n",
      "20 \t4     \n",
      "21 \t3     \n",
      "22 \t2     \n",
      "23 \t1     \n",
      "24 \t1     \n",
      "25 \t2     \n",
      "26 \t0     \n",
      "27 \t1     \n",
      "28 \t2     \n",
      "29 \t4     \n",
      "30 \t3     \n",
      "31 \t0     \n",
      "32 \t2     \n",
      "33 \t2     \n",
      "34 \t2     \n",
      "35 \t3     \n",
      "36 \t2     \n",
      "37 \t3     \n",
      "38 \t0     \n",
      "39 \t2     \n",
      "40 \t2     \n",
      "Meilleur taux d'apprentissage trouvé: 0.2802353459396375\n"
     ]
    }
   ],
   "source": [
    "def main():\n",
    "    pop = toolbox.population(n=4)\n",
    "    algorithms.eaSimple(pop, toolbox, cxpb=0.5, mutpb=0.2, ngen=40, verbose=True)\n",
    "    best_individual = tools.selBest(pop, k=1)[0]\n",
    "    best_learning_rate = best_individual[0]\n",
    "    print(\"Meilleur taux d'apprentissage trouvé:\", best_learning_rate)\n",
    "\n",
    "if __name__ == \"__main__\":\n",
    "    main()\n"
   ]
  },
  {
   "cell_type": "code",
   "execution_count": null,
   "id": "7f64b520",
   "metadata": {},
   "outputs": [],
   "source": [
    "#« nevals » fait généralement référence au nombre d'évaluations \n",
    "#effectuées pendant le processus d'optimisation.\n",
    "#nombre de fois que la fonction de fitness a été appelée, ce qui est indicatif de l'effort \n",
    "#computationnel consacré à la recherche de la solution optimale."
   ]
  },
  {
   "cell_type": "markdown",
   "id": "28691b96",
   "metadata": {},
   "source": [
    "# test de performance "
   ]
  },
  {
   "cell_type": "code",
   "execution_count": 46,
   "id": "2ed95091",
   "metadata": {},
   "outputs": [
    {
     "name": "stdout",
     "output_type": "stream",
     "text": [
      "Précision avec le taux d'apprentissage par défaut (0.001) : 0.9666666666666667\n",
      "Précision avec le taux d'apprentissage trouvé : 1.0\n"
     ]
    },
    {
     "name": "stderr",
     "output_type": "stream",
     "text": [
      "C:\\Users\\LENOVO\\anaconda3\\lib\\site-packages\\sklearn\\neural_network\\_multilayer_perceptron.py:614: ConvergenceWarning: Stochastic Optimizer: Maximum iterations (1000) reached and the optimization hasn't converged yet.\n",
      "  warnings.warn(\n"
     ]
    }
   ],
   "source": [
    "from sklearn.datasets import load_iris\n",
    "from sklearn.model_selection import train_test_split\n",
    "from sklearn.neural_network import MLPClassifier\n",
    "from sklearn.metrics import accuracy_score\n",
    "\n",
    "# Chargement de l'ensemble de données (par exemple, Iris dataset)\n",
    "data = load_iris()\n",
    "X = data.data\n",
    "y = data.target\n",
    "\n",
    "# Division de l'ensemble de données en ensembles d'entraînement et de test\n",
    "X_train, X_test, y_train, y_test = train_test_split(X, y, test_size=0.2, random_state=42)\n",
    "\n",
    "# Création du modèle avec le taux d'apprentissage par défaut (0.001) une seule couche cachée contenant 10 neurones.\n",
    "clf_default_lr = MLPClassifier(hidden_layer_sizes=(10,), max_iter=1000, learning_rate_init=0.001, random_state=42)\n",
    "\n",
    "# Entraînement du modèle avec le taux d'apprentissage par défaut\n",
    "clf_default_lr.fit(X_train, y_train)\n",
    "\n",
    "# Prédiction sur l'ensemble de test avec le taux d'apprentissage par défaut\n",
    "y_pred_default_lr = clf_default_lr.predict(X_test)\n",
    "\n",
    "# Calcul de la précision du modèle avec le taux d'apprentissage par défaut\n",
    "accuracy_default_lr = accuracy_score(y_test, y_pred_default_lr)\n",
    "print(\"Précision avec le taux d'apprentissage par défaut (0.001) :\", accuracy_default_lr)\n",
    "\n",
    "# Création du modèle avec le taux d'apprentissage trouvé (0.08819245872758036)\n",
    "clf_found_lr = MLPClassifier(hidden_layer_sizes=(10,), max_iter=1000, learning_rate_init= 0.2802353459396375, random_state=42)\n",
    "\n",
    "# Entraînement du modèle avec le taux d'apprentissage trouvé\n",
    "clf_found_lr.fit(X_train, y_train)\n",
    "\n",
    "# Prédiction sur l'ensemble de test avec le taux d'apprentissage trouvé\n",
    "y_pred_found_lr = clf_found_lr.predict(X_test)\n",
    "\n",
    "# Calcul de la précision du modèle avec le taux d'apprentissage trouvé\n",
    "accuracy_found_lr = accuracy_score(y_test, y_pred_found_lr)\n",
    "print(\"Précision avec le taux d'apprentissage trouvé :\", accuracy_found_lr)\n"
   ]
  },
  {
   "cell_type": "markdown",
   "id": "f16b450a",
   "metadata": {},
   "source": [
    "# PSO"
   ]
  },
  {
   "cell_type": "code",
   "execution_count": 50,
   "id": "d60ecf56",
   "metadata": {},
   "outputs": [
    {
     "name": "stderr",
     "output_type": "stream",
     "text": [
      "C:\\Users\\LENOVO\\anaconda3\\lib\\site-packages\\deap\\creator.py:185: RuntimeWarning: A class named 'FitnessMin' has already been created and it will be overwritten. Consider deleting previous creation of that class or rename it.\n",
      "  warnings.warn(\"A class named '{0}' has already been created and it \"\n",
      "C:\\Users\\LENOVO\\anaconda3\\lib\\site-packages\\deap\\creator.py:185: RuntimeWarning: A class named 'Particle' has already been created and it will be overwritten. Consider deleting previous creation of that class or rename it.\n",
      "  warnings.warn(\"A class named '{0}' has already been created and it \"\n"
     ]
    }
   ],
   "source": [
    "import numpy as np\n",
    "from math import sin\n",
    "from deap import base, creator, tools, algorithms\n",
    "\n",
    "# Définition de la fonction d'évaluation\n",
    "def evaluate(individual):\n",
    "    x, y = individual\n",
    "    return (x - 3.14)**2 + (y - 2.72)**2 + sin(3*x + 1.4) + sin(4*y - 1.73),\n",
    "\n",
    "# Définition des bornes pour les variables x et y\n",
    "x_bounds = (-10, 10)\n",
    "y_bounds = (-10, 10)\n",
    "\n",
    "# Initialisation de l'environnement DEAP\n",
    "creator.create(\"FitnessMin\", base.Fitness, weights=(-1.0,))\n",
    "creator.create(\"Particle\", np.ndarray, fitness=creator.FitnessMin, speed=list, smin=None, smax=None, best=None)\n",
    "\n",
    "# Initialisation des outils DEAP\n",
    "toolbox = base.Toolbox()\n",
    "toolbox.register(\"attr_float\", np.random.uniform, -10, 10)\n",
    "toolbox.register(\"particle\", tools.initRepeat, creator.Particle, toolbox.attr_float, n=2)\n",
    "toolbox.register(\"population\", tools.initRepeat, list, toolbox.particle)\n",
    "toolbox.register(\"update\", tools.mutGaussian, mu=0, sigma=1, indpb=0.1)\n",
    "\n",
    "# Configuration de l'algorithme PSO\n",
    "toolbox.register(\"evaluate\", evaluate)\n",
    "toolbox.register(\"mate\", tools.cxBlend, alpha=0.5)\n",
    "toolbox.register(\"select\", tools.selBest)\n",
    "toolbox.register(\"mutate\", tools.mutPolynomialBounded, eta=0.5, low=-10, up=10, indpb=0.2)\n",
    "\n",
    "def main():\n",
    "    pop = toolbox.population(n=10)\n",
    "    stats = tools.Statistics(lambda ind: ind.fitness.values)\n",
    "    stats.register(\"min\", np.min)\n",
    "\n",
    "    algorithms.eaSimple(pop, toolbox, cxpb=0.5, mutpb=0.2, ngen=50, stats=stats, verbose=True)\n",
    "\n",
    "    best_individual = tools.selBest(pop, k=1)[0]\n",
    "    best_x, best_y = best_individual\n",
    "    best_fitness = best_individual.fitness.values[0]\n",
    "    print(f\"Meilleur solution trouvée: x={best_x}, y={best_y}, fitness={best_fitness}\")\n",
    "\n",
    "if __name__ == \"__main__\":\n",
    "    main()\n"
   ]
  },
  {
   "cell_type": "code",
   "execution_count": 51,
   "id": "e8b48f57",
   "metadata": {},
   "outputs": [],
   "source": [
    "# Initialisation des outils DEAP\n",
    "toolbox = base.Toolbox()\n",
    "toolbox.register(\"attr_float\", np.random.uniform, -10, 10)\n",
    "toolbox.register(\"particle\", tools.initRepeat, creator.Particle, toolbox.attr_float, n=2)\n",
    "toolbox.register(\"population\", tools.initRepeat, list, toolbox.particle)\n",
    "toolbox.register(\"update\", tools.mutGaussian, mu=0, sigma=1, indpb=0.1)\n",
    "\n",
    "# Configuration de l'algorithme PSO\n",
    "toolbox.register(\"evaluate\", evaluate)\n",
    "toolbox.register(\"mate\", tools.cxBlend, alpha=0.5)\n",
    "toolbox.register(\"select\", tools.selBest)\n",
    "toolbox.register(\"mutate\", tools.mutPolynomialBounded, eta=0.5, low=-10, up=10, indpb=0.2)\n",
    "\n"
   ]
  },
  {
   "cell_type": "code",
   "execution_count": 52,
   "id": "b7804f9f",
   "metadata": {},
   "outputs": [
    {
     "name": "stdout",
     "output_type": "stream",
     "text": [
      "gen\tnevals\tmin    \n",
      "0  \t10    \t6.08087\n",
      "1  \t6     \t3.29105\n",
      "2  \t9     \t0.151336\n",
      "3  \t8     \t2.73947 \n",
      "4  \t7     \t2.48809 \n",
      "5  \t5     \t2.48809 \n",
      "6  \t6     \t1.17572 \n",
      "7  \t3     \t1.17572 \n",
      "8  \t10    \t0.660081\n",
      "9  \t9     \t-0.762137\n",
      "10 \t7     \t-0.762137\n",
      "11 \t5     \t-0.762137\n",
      "12 \t6     \t-0.762137\n",
      "13 \t8     \t4.46486  \n",
      "14 \t6     \t4.46486  \n",
      "15 \t3     \t4.46486  \n",
      "16 \t7     \t4.4418   \n",
      "17 \t7     \t4.4418   \n",
      "18 \t6     \t-0.465233\n",
      "19 \t4     \t-0.465233\n",
      "20 \t7     \t-0.625776\n",
      "21 \t7     \t-0.465233\n",
      "22 \t7     \t0.212957 \n",
      "23 \t6     \t-0.218021\n",
      "24 \t4     \t-0.218021\n",
      "25 \t5     \t2.77825  \n",
      "26 \t6     \t2.95427  \n",
      "27 \t2     \t2.95427  \n",
      "28 \t6     \t3.05382  \n",
      "29 \t6     \t-1.61464 \n",
      "30 \t8     \t1.68008  \n",
      "31 \t8     \t1.40791  \n",
      "32 \t6     \t-0.329145\n",
      "33 \t4     \t-0.329145\n",
      "34 \t4     \t-0.329145\n",
      "35 \t9     \t1.40791  \n",
      "36 \t9     \t0.373397 \n",
      "37 \t6     \t2.20172  \n",
      "38 \t7     \t1.12742  \n",
      "39 \t4     \t11.7793  \n",
      "40 \t4     \t2.85998  \n",
      "41 \t3     \t2.85998  \n",
      "42 \t7     \t3.9122   \n",
      "43 \t9     \t3.19732  \n",
      "44 \t8     \t3.06051  \n",
      "45 \t8     \t2.04747  \n",
      "46 \t7     \t1.86401  \n",
      "47 \t4     \t1.86401  \n",
      "48 \t7     \t3.16407  \n",
      "49 \t4     \t3.16407  \n",
      "50 \t6     \t3.02451  \n",
      "Meilleur solution trouvée: x=4.405507484534099, y=1.5120822156532723, fitness=3.0245090856187584\n"
     ]
    }
   ],
   "source": [
    "def main():\n",
    "    pop = toolbox.population(n=10)\n",
    "    stats = tools.Statistics(lambda ind: ind.fitness.values)\n",
    "    stats.register(\"min\", np.min)\n",
    "\n",
    "    algorithms.eaSimple(pop, toolbox, cxpb=0.5, mutpb=0.2, ngen=50, stats=stats, verbose=True)\n",
    "\n",
    "    best_individual = tools.selBest(pop, k=1)[0]\n",
    "    best_x, best_y = best_individual\n",
    "    best_fitness = best_individual.fitness.values[0]\n",
    "    print(f\"Meilleur solution trouvée: x={best_x}, y={best_y}, fitness={best_fitness}\")\n",
    "\n",
    "if __name__ == \"__main__\":\n",
    "    main()\n"
   ]
  },
  {
   "cell_type": "code",
   "execution_count": null,
   "id": "c2e39d35",
   "metadata": {},
   "outputs": [],
   "source": []
  },
  {
   "cell_type": "code",
   "execution_count": null,
   "id": "0433af07",
   "metadata": {},
   "outputs": [],
   "source": []
  },
  {
   "cell_type": "code",
   "execution_count": null,
   "id": "ca6fa20a",
   "metadata": {},
   "outputs": [],
   "source": []
  }
 ],
 "metadata": {
  "kernelspec": {
   "display_name": "Python 3 (ipykernel)",
   "language": "python",
   "name": "python3"
  },
  "language_info": {
   "codemirror_mode": {
    "name": "ipython",
    "version": 3
   },
   "file_extension": ".py",
   "mimetype": "text/x-python",
   "name": "python",
   "nbconvert_exporter": "python",
   "pygments_lexer": "ipython3",
   "version": "3.9.13"
  }
 },
 "nbformat": 4,
 "nbformat_minor": 5
}
