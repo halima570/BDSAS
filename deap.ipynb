{
 "cells": [
  {
   "cell_type": "code",
   "execution_count": 1,
   "id": "98b2600d",
   "metadata": {},
   "outputs": [],
   "source": [
    "import random\n",
    "\n",
    "from deap import base\n",
    "from deap import creator\n",
    "from deap import tools"
   ]
  },
  {
   "cell_type": "code",
   "execution_count": null,
   "id": "88e781b1",
   "metadata": {},
   "outputs": [],
   "source": [
    "#maximiser une fonction mathématique simple : f(x)=x2−4x+4"
   ]
  },
  {
   "cell_type": "code",
   "execution_count": 2,
   "id": "54face89",
   "metadata": {},
   "outputs": [],
   "source": [
    "# Création d'un problème de maximisation\n",
    "creator.create(\"FitnessMax\", base.Fitness, weights=(1.0,))\n",
    "creator.create(\"Individual\", list, fitness=creator.FitnessMax)"
   ]
  },
  {
   "cell_type": "code",
   "execution_count": 3,
   "id": "8704acff",
   "metadata": {},
   "outputs": [],
   "source": [
    "# Initialisation de la population\n",
    "toolbox = base.Toolbox()\n",
    "toolbox.register(\"attr_float\", random.uniform, 0, 10)\n",
    "toolbox.register(\"individual\", tools.initRepeat, creator.Individual, toolbox.attr_float, n=1)\n",
    "toolbox.register(\"population\", tools.initRepeat, list, toolbox.individual)"
   ]
  },
  {
   "cell_type": "code",
   "execution_count": 4,
   "id": "810071a7",
   "metadata": {},
   "outputs": [],
   "source": [
    "# Définition de la fonction d'évaluation\n",
    "def evaluate(individual):\n",
    "    x = individual[0]\n",
    "    return x**2 - 4*x + 4"
   ]
  },
  {
   "cell_type": "code",
   "execution_count": 5,
   "id": "11fc025c",
   "metadata": {},
   "outputs": [],
   "source": [
    "toolbox.register(\"evaluate\", evaluate)\n",
    "toolbox.register(\"mate\", tools.cxTwoPoint)\n",
    "toolbox.register(\"mutate\", tools.mutGaussian, mu=0, sigma=1, indpb=0.2)\n",
    "toolbox.register(\"select\", tools.selTournament, tournsize=3)\n",
    "\n",
    "if __name__ == \"__main__\":\n",
    "    population = toolbox.population(n=10)\n",
    "    generations = 10"
   ]
  },
  {
   "cell_type": "code",
   "execution_count": 7,
   "id": "f184fc11",
   "metadata": {},
   "outputs": [
    {
     "ename": "IndentationError",
     "evalue": "unindent does not match any outer indentation level (<tokenize>, line 9)",
     "output_type": "error",
     "traceback": [
      "\u001b[1;36m  File \u001b[1;32m\"<tokenize>\"\u001b[1;36m, line \u001b[1;32m9\u001b[0m\n\u001b[1;33m    best_individual = tools.selBest(population, k=1)[0]\u001b[0m\n\u001b[1;37m    ^\u001b[0m\n\u001b[1;31mIndentationError\u001b[0m\u001b[1;31m:\u001b[0m unindent does not match any outer indentation level\n"
     ]
    }
   ],
   "source": [
    "for gen in range(generations):\n",
    "        offspring = algorithms.varAnd(population, toolbox, cxpb=0.7, mutpb=0.2)\n",
    "        fits = toolbox.map(toolbox.evaluate, offspring)\n",
    "        for fit, ind in zip(fits, offspring):\n",
    "            ind.fitness.values = fit\n",
    "\n",
    "        population = offspring\n",
    "\n",
    "    best_individual = tools.selBest(population, k=1)[0]\n",
    "    best_fitness = best_individual.fitness.values[0]\n",
    "    print(f\"Meilleur individu : {best_individual}, Fitness : {best_fitness}\")"
   ]
  },
  {
   "cell_type": "markdown",
   "id": "0bf6e38f",
   "metadata": {},
   "source": [
    "# one max probleme"
   ]
  },
  {
   "cell_type": "code",
   "execution_count": 6,
   "id": "ac29d8e3",
   "metadata": {},
   "outputs": [
    {
     "name": "stdout",
     "output_type": "stream",
     "text": [
      "Début de l'évolution\n",
      "  Génération 0: Meilleur = 7.0, Moyenne = 5.85\n",
      "  Génération 1: Meilleur = 8.0, Moyenne = 6.45\n",
      "  Génération 2: Meilleur = 8.0, Moyenne = 6.9\n",
      "  Génération 3: Meilleur = 9.0, Moyenne = 7.55\n",
      "  Génération 4: Meilleur = 9.0, Moyenne = 8.05\n",
      "  Génération 5: Meilleur = 9.0, Moyenne = 8.65\n",
      "  Génération 6: Meilleur = 9.0, Moyenne = 8.75\n",
      "  Génération 7: Meilleur = 9.0, Moyenne = 8.85\n",
      "  Génération 8: Meilleur = 9.0, Moyenne = 8.9\n",
      "  Génération 9: Meilleur = 9.0, Moyenne = 8.9\n",
      "  Génération 10: Meilleur = 9.0, Moyenne = 8.7\n",
      "  Génération 11: Meilleur = 9.0, Moyenne = 8.9\n",
      "  Génération 12: Meilleur = 9.0, Moyenne = 8.95\n",
      "  Génération 13: Meilleur = 9.0, Moyenne = 8.95\n",
      "  Génération 14: Meilleur = 9.0, Moyenne = 8.95\n",
      "  Génération 15: Meilleur = 9.0, Moyenne = 8.95\n",
      "  Génération 16: Meilleur = 9.0, Moyenne = 9.0\n",
      "  Génération 17: Meilleur = 9.0, Moyenne = 9.0\n",
      "  Génération 18: Meilleur = 9.0, Moyenne = 8.8\n",
      "  Génération 19: Meilleur = 9.0, Moyenne = 9.0\n",
      "  Génération 20: Meilleur = 9.0, Moyenne = 9.0\n",
      "  Génération 21: Meilleur = 9.0, Moyenne = 8.8\n",
      "  Génération 22: Meilleur = 9.0, Moyenne = 8.75\n",
      "  Génération 23: Meilleur = 9.0, Moyenne = 8.95\n",
      "  Génération 24: Meilleur = 10.0, Moyenne = 9.0\n",
      "  Génération 25: Meilleur = 10.0, Moyenne = 9.1\n",
      "  Génération 26: Meilleur = 10.0, Moyenne = 9.1\n",
      "  Génération 27: Meilleur = 10.0, Moyenne = 9.65\n",
      "  Génération 28: Meilleur = 10.0, Moyenne = 9.95\n",
      "  Génération 29: Meilleur = 10.0, Moyenne = 9.9\n",
      "  Génération 30: Meilleur = 10.0, Moyenne = 9.8\n",
      "  Génération 31: Meilleur = 10.0, Moyenne = 10.0\n",
      "  Génération 32: Meilleur = 10.0, Moyenne = 9.9\n",
      "  Génération 33: Meilleur = 10.0, Moyenne = 9.85\n",
      "  Génération 34: Meilleur = 10.0, Moyenne = 9.9\n",
      "  Génération 35: Meilleur = 10.0, Moyenne = 9.9\n",
      "  Génération 36: Meilleur = 10.0, Moyenne = 9.9\n",
      "  Génération 37: Meilleur = 10.0, Moyenne = 10.0\n",
      "  Génération 38: Meilleur = 10.0, Moyenne = 9.75\n",
      "  Génération 39: Meilleur = 10.0, Moyenne = 9.95\n",
      "  Génération 40: Meilleur = 10.0, Moyenne = 9.95\n",
      "  Génération 41: Meilleur = 10.0, Moyenne = 9.75\n",
      "  Génération 42: Meilleur = 10.0, Moyenne = 10.0\n",
      "  Génération 43: Meilleur = 10.0, Moyenne = 9.9\n",
      "  Génération 44: Meilleur = 10.0, Moyenne = 9.7\n",
      "  Génération 45: Meilleur = 10.0, Moyenne = 9.9\n",
      "  Génération 46: Meilleur = 10.0, Moyenne = 9.85\n",
      "  Génération 47: Meilleur = 10.0, Moyenne = 10.0\n",
      "  Génération 48: Meilleur = 10.0, Moyenne = 9.85\n",
      "  Génération 49: Meilleur = 10.0, Moyenne = 9.85\n",
      "Fin de l'évolution\n"
     ]
    }
   ],
   "source": [
    "import random\n",
    "from deap import base, creator, tools\n",
    "\n",
    "# Création du type d'individu et de la fonction d'évaluation\n",
    "creator.create(\"FitnessMax\", base.Fitness, weights=(1.0,))\n",
    "creator.create(\"Individu\", list, fitness=creator.FitnessMax)\n",
    "def evaluate(individual):\n",
    "    # Compter le nombre d'éléments égaux à 1 dans l'individu\n",
    "    count = sum(individual)\n",
    "    return count,\n",
    "# Initialisation de la population et des opérateurs\n",
    "toolbox = base.Toolbox()\n",
    "toolbox.register(\"attr_bool\", random.randint, 0, 1)\n",
    "toolbox.register(\"individu\", tools.initRepeat, creator.Individu, toolbox.attr_bool, n=10)\n",
    "toolbox.register(\"population\", tools.initRepeat, list, toolbox.individu)\n",
    "toolbox.register(\"evaluate\", evaluate)\n",
    "toolbox.register(\"mate\", tools.cxTwoPoint)\n",
    "toolbox.register(\"mutate\", tools.mutFlipBit, indpb=0.05)\n",
    "toolbox.register(\"select\", tools.selTournament, tournsize=3)\n",
    "def main():\n",
    "    # Initialisation de la population\n",
    "    population = toolbox.population(n=20)\n",
    "    CXPB, MUTPB, N_GEN = 0.6, 0.2, 50\n",
    "    \n",
    "    print(\"Début de l'évolution\")\n",
    "    # Évaluation de la population\n",
    "    fitnesses = list(map(toolbox.evaluate, population))\n",
    "    for ind, fit in zip(population, fitnesses):\n",
    "        ind.fitness.values = fit\n",
    "\n",
    "    # Boucle d'évolution\n",
    "    for gen in range(N_GEN):\n",
    "        # Sélection de la population\n",
    "        offspring = toolbox.select(population, len(population))\n",
    "\n",
    "        # Clonage des individus sélectionnés\n",
    "        offspring = list(map(toolbox.clone, offspring))\n",
    "\n",
    "        # Application des opérateurs de croisement et de mutation\n",
    "        for child1, child2 in zip(offspring[::2], offspring[1::2]):\n",
    "            if random.random() < CXPB:\n",
    "                toolbox.mate(child1, child2)\n",
    "                del child1.fitness.values\n",
    "                del child2.fitness.values\n",
    "\n",
    "        for mutant in offspring:\n",
    "            if random.random() < MUTPB:\n",
    "                toolbox.mutate(mutant)\n",
    "                del mutant.fitness.values\n",
    "\n",
    "        # Réévaluation des individus modifiés\n",
    "        invalid_ind = [ind for ind in offspring if not ind.fitness.valid]\n",
    "        fitnesses = list(map(toolbox.evaluate, invalid_ind))\n",
    "        for ind, fit in zip(invalid_ind, fitnesses):\n",
    "            ind.fitness.values = fit\n",
    "\n",
    "        # Remplacement de la population par la nouvelle génération\n",
    "        population[:] = offspring\n",
    "\n",
    "        # Affichage des statistiques à chaque génération\n",
    "        fits = [ind.fitness.values[0] for ind in population]\n",
    "        mean = sum(fits) / len(population)\n",
    "        print(f\"  Génération {gen}: Meilleur = {max(fits)}, Moyenne = {mean}\")\n",
    "\n",
    "    print(\"Fin de l'évolution\")\n",
    "\n",
    "if __name__ == \"__main__\":\n",
    "    main()\n"
   ]
  },
  {
   "cell_type": "code",
   "execution_count": null,
   "id": "b824cf0b",
   "metadata": {},
   "outputs": [],
   "source": []
  },
  {
   "cell_type": "code",
   "execution_count": null,
   "id": "ef159d70",
   "metadata": {},
   "outputs": [],
   "source": []
  },
  {
   "cell_type": "code",
   "execution_count": null,
   "id": "55d3737e",
   "metadata": {},
   "outputs": [],
   "source": []
  },
  {
   "cell_type": "code",
   "execution_count": null,
   "id": "079a041a",
   "metadata": {},
   "outputs": [],
   "source": []
  }
 ],
 "metadata": {
  "kernelspec": {
   "display_name": "Python 3 (ipykernel)",
   "language": "python",
   "name": "python3"
  },
  "language_info": {
   "codemirror_mode": {
    "name": "ipython",
    "version": 3
   },
   "file_extension": ".py",
   "mimetype": "text/x-python",
   "name": "python",
   "nbconvert_exporter": "python",
   "pygments_lexer": "ipython3",
   "version": "3.9.13"
  }
 },
 "nbformat": 4,
 "nbformat_minor": 5
}
