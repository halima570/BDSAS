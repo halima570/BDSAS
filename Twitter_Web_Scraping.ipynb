{
 "cells": [
  {
   "cell_type": "code",
   "execution_count": 1,
   "id": "852fb34d-34b2-4443-8b81-2317b2187437",
   "metadata": {},
   "outputs": [],
   "source": [
    "from ntscraper import Nitter"
   ]
  },
  {
   "cell_type": "code",
   "execution_count": 2,
   "id": "222ad4db-1475-4fd5-89f0-e88c815d3e70",
   "metadata": {},
   "outputs": [
    {
     "name": "stderr",
     "output_type": "stream",
     "text": [
      "Testing instances: 100%|███████████████████████████████████████████████████████████████| 28/28 [00:52<00:00,  1.87s/it]\n"
     ]
    }
   ],
   "source": [
    "scraper = Nitter(0)"
   ]
  },
  {
   "cell_type": "code",
   "execution_count": 8,
   "id": "62452a25-64b6-42c9-b1b9-36674fb29a26",
   "metadata": {},
   "outputs": [],
   "source": [
    "tweets = scraper.get_tweets(\"india\", mode = 'hashtag', number=10)"
   ]
  },
  {
   "cell_type": "code",
   "execution_count": 9,
   "id": "78abb7aa-1dee-4891-ae92-5857dcb0ce31",
   "metadata": {},
   "outputs": [],
   "source": [
    "final_tweets = []\n",
    "for x in tweets['tweets']:\n",
    "    data = [x['link'], x['text'],x['date'],x['stats']['likes'],x['stats']['comments']]\n",
    "    final_tweets.append(data)"
   ]
  },
  {
   "cell_type": "code",
   "execution_count": 10,
   "id": "247e9f5d-fdc2-484e-bdd7-ea7db3badb36",
   "metadata": {},
   "outputs": [
    {
     "ename": "NameError",
     "evalue": "name 'pd' is not defined",
     "output_type": "error",
     "traceback": [
      "\u001b[1;31m---------------------------------------------------------------------------\u001b[0m",
      "\u001b[1;31mNameError\u001b[0m                                 Traceback (most recent call last)",
      "Cell \u001b[1;32mIn[10], line 1\u001b[0m\n\u001b[1;32m----> 1\u001b[0m dat \u001b[38;5;241m=\u001b[39m \u001b[43mpd\u001b[49m\u001b[38;5;241m.\u001b[39mDataFrame(final_tweets, columns \u001b[38;5;241m=\u001b[39m[\u001b[38;5;124m'\u001b[39m\u001b[38;5;124mtwitter_link\u001b[39m\u001b[38;5;124m'\u001b[39m,\u001b[38;5;124m'\u001b[39m\u001b[38;5;124mtext\u001b[39m\u001b[38;5;124m'\u001b[39m,\u001b[38;5;124m'\u001b[39m\u001b[38;5;124mdate\u001b[39m\u001b[38;5;124m'\u001b[39m,\u001b[38;5;124m'\u001b[39m\u001b[38;5;124mlikes\u001b[39m\u001b[38;5;124m'\u001b[39m,\u001b[38;5;124m'\u001b[39m\u001b[38;5;124mcomments\u001b[39m\u001b[38;5;124m'\u001b[39m])\n",
      "\u001b[1;31mNameError\u001b[0m: name 'pd' is not defined"
     ]
    }
   ],
   "source": [
    "dat = pd.DataFrame(final_tweets, columns =['twitter_link','text','date','likes','comments'])"
   ]
  },
  {
   "cell_type": "code",
   "execution_count": 110,
   "id": "9151789b-ddc8-4922-9d34-a9769d503573",
   "metadata": {},
   "outputs": [
    {
     "data": {
      "text/html": [
       "<div>\n",
       "<style scoped>\n",
       "    .dataframe tbody tr th:only-of-type {\n",
       "        vertical-align: middle;\n",
       "    }\n",
       "\n",
       "    .dataframe tbody tr th {\n",
       "        vertical-align: top;\n",
       "    }\n",
       "\n",
       "    .dataframe thead th {\n",
       "        text-align: right;\n",
       "    }\n",
       "</style>\n",
       "<table border=\"1\" class=\"dataframe\">\n",
       "  <thead>\n",
       "    <tr style=\"text-align: right;\">\n",
       "      <th></th>\n",
       "      <th>twitter_link</th>\n",
       "      <th>text</th>\n",
       "      <th>date</th>\n",
       "      <th>likes</th>\n",
       "      <th>comments</th>\n",
       "    </tr>\n",
       "  </thead>\n",
       "  <tbody>\n",
       "    <tr>\n",
       "      <th>0</th>\n",
       "      <td>https://twitter.com/Muhamma5615510/status/1723...</td>\n",
       "      <td>Just remember 2 six to ashwin just remember 4 ...</td>\n",
       "      <td>Nov 13, 2023 · 7:20 AM UTC</td>\n",
       "      <td>0</td>\n",
       "      <td>0</td>\n",
       "    </tr>\n",
       "    <tr>\n",
       "      <th>1</th>\n",
       "      <td>https://twitter.com/bluestone_leo/status/17239...</td>\n",
       "      <td>And the next day they said - “YOU ALL ARE FIRE...</td>\n",
       "      <td>Nov 13, 2023 · 7:20 AM UTC</td>\n",
       "      <td>0</td>\n",
       "      <td>0</td>\n",
       "    </tr>\n",
       "    <tr>\n",
       "      <th>2</th>\n",
       "      <td>https://twitter.com/Wants_to_know__/status/172...</td>\n",
       "      <td>Because it was made from your mother's 🍊🍊 milk 🤱</td>\n",
       "      <td>Nov 13, 2023 · 7:20 AM UTC</td>\n",
       "      <td>0</td>\n",
       "      <td>0</td>\n",
       "    </tr>\n",
       "    <tr>\n",
       "      <th>3</th>\n",
       "      <td>https://twitter.com/total_woke_/status/1723209...</td>\n",
       "      <td>Dear Friends from Pakistan, This Tweet doesn't...</td>\n",
       "      <td>Nov 11, 2023 · 5:21 AM UTC</td>\n",
       "      <td>3709</td>\n",
       "      <td>55</td>\n",
       "    </tr>\n",
       "    <tr>\n",
       "      <th>4</th>\n",
       "      <td>https://twitter.com/asmgn/status/1723963919142...</td>\n",
       "      <td>When bowling was more fantastic. 😂🤣😜</td>\n",
       "      <td>Nov 13, 2023 · 7:20 AM UTC</td>\n",
       "      <td>0</td>\n",
       "      <td>0</td>\n",
       "    </tr>\n",
       "    <tr>\n",
       "      <th>5</th>\n",
       "      <td>https://twitter.com/Raja69313293/status/172396...</td>\n",
       "      <td>Ek Tha EX50,55,73 😂😂 😂</td>\n",
       "      <td>Nov 13, 2023 · 7:19 AM UTC</td>\n",
       "      <td>0</td>\n",
       "      <td>0</td>\n",
       "    </tr>\n",
       "    <tr>\n",
       "      <th>6</th>\n",
       "      <td>https://twitter.com/bsindia/status/17239638212...</td>\n",
       "      <td>Virender Sehwag, Aravinda de Silva, and Diana ...</td>\n",
       "      <td>Nov 13, 2023 · 7:19 AM UTC</td>\n",
       "      <td>0</td>\n",
       "      <td>0</td>\n",
       "    </tr>\n",
       "    <tr>\n",
       "      <th>7</th>\n",
       "      <td>https://twitter.com/Sportskeeda/status/1723937...</td>\n",
       "      <td>Three new inductees in ICC Hall of Fame 🤩  #Cr...</td>\n",
       "      <td>Nov 13, 2023 · 5:35 AM UTC</td>\n",
       "      <td>285</td>\n",
       "      <td>3</td>\n",
       "    </tr>\n",
       "    <tr>\n",
       "      <th>8</th>\n",
       "      <td>https://twitter.com/ManeeshSol84/status/172396...</td>\n",
       "      <td>Induction into ICC Hall of fame 🥳 @virenderseh...</td>\n",
       "      <td>Nov 13, 2023 · 7:19 AM UTC</td>\n",
       "      <td>0</td>\n",
       "      <td>0</td>\n",
       "    </tr>\n",
       "    <tr>\n",
       "      <th>9</th>\n",
       "      <td>https://twitter.com/KhiltaChaman/status/172396...</td>\n",
       "      <td>Dashing - Bowler Bashing            Batsman @v...</td>\n",
       "      <td>Nov 13, 2023 · 7:18 AM UTC</td>\n",
       "      <td>0</td>\n",
       "      <td>0</td>\n",
       "    </tr>\n",
       "  </tbody>\n",
       "</table>\n",
       "</div>"
      ],
      "text/plain": [
       "                                        twitter_link  \\\n",
       "0  https://twitter.com/Muhamma5615510/status/1723...   \n",
       "1  https://twitter.com/bluestone_leo/status/17239...   \n",
       "2  https://twitter.com/Wants_to_know__/status/172...   \n",
       "3  https://twitter.com/total_woke_/status/1723209...   \n",
       "4  https://twitter.com/asmgn/status/1723963919142...   \n",
       "5  https://twitter.com/Raja69313293/status/172396...   \n",
       "6  https://twitter.com/bsindia/status/17239638212...   \n",
       "7  https://twitter.com/Sportskeeda/status/1723937...   \n",
       "8  https://twitter.com/ManeeshSol84/status/172396...   \n",
       "9  https://twitter.com/KhiltaChaman/status/172396...   \n",
       "\n",
       "                                                text  \\\n",
       "0  Just remember 2 six to ashwin just remember 4 ...   \n",
       "1  And the next day they said - “YOU ALL ARE FIRE...   \n",
       "2   Because it was made from your mother's 🍊🍊 milk 🤱   \n",
       "3  Dear Friends from Pakistan, This Tweet doesn't...   \n",
       "4               When bowling was more fantastic. 😂🤣😜   \n",
       "5                             Ek Tha EX50,55,73 😂😂 😂   \n",
       "6  Virender Sehwag, Aravinda de Silva, and Diana ...   \n",
       "7  Three new inductees in ICC Hall of Fame 🤩  #Cr...   \n",
       "8  Induction into ICC Hall of fame 🥳 @virenderseh...   \n",
       "9  Dashing - Bowler Bashing            Batsman @v...   \n",
       "\n",
       "                         date  likes  comments  \n",
       "0  Nov 13, 2023 · 7:20 AM UTC      0         0  \n",
       "1  Nov 13, 2023 · 7:20 AM UTC      0         0  \n",
       "2  Nov 13, 2023 · 7:20 AM UTC      0         0  \n",
       "3  Nov 11, 2023 · 5:21 AM UTC   3709        55  \n",
       "4  Nov 13, 2023 · 7:20 AM UTC      0         0  \n",
       "5  Nov 13, 2023 · 7:19 AM UTC      0         0  \n",
       "6  Nov 13, 2023 · 7:19 AM UTC      0         0  \n",
       "7  Nov 13, 2023 · 5:35 AM UTC    285         3  \n",
       "8  Nov 13, 2023 · 7:19 AM UTC      0         0  \n",
       "9  Nov 13, 2023 · 7:18 AM UTC      0         0  "
      ]
     },
     "execution_count": 110,
     "metadata": {},
     "output_type": "execute_result"
    }
   ],
   "source": [
    "dat"
   ]
  },
  {
   "cell_type": "code",
   "execution_count": 104,
   "id": "ab2c408b-06a5-4e8e-b482-d6eda61a8fbf",
   "metadata": {},
   "outputs": [
    {
     "name": "stdout",
     "output_type": "stream",
     "text": [
      "13-Nov-23 12:46:47 - No instance specified, using random instance https://nitter.soopy.moe\n"
     ]
    }
   ],
   "source": [
    "tweets = scraper.get_profile_info(\"JeffBezos\")"
   ]
  },
  {
   "cell_type": "code",
   "execution_count": 105,
   "id": "15ed575d-452b-4ca7-a0d9-2c8b5a9ea8ce",
   "metadata": {},
   "outputs": [
    {
     "data": {
      "text/plain": [
       "{'image': 'https://pbs.twimg.com/profile_images/1591558315254890500/ETIHb4Nl_400x400.jpg',\n",
       " 'name': 'Jeff Bezos',\n",
       " 'username': '@JeffBezos',\n",
       " 'id': '15506669',\n",
       " 'bio': 'Amazon. Blue Origin. Washington Post. Bezos Earth Fund. Bezos Academy.',\n",
       " 'location': '',\n",
       " 'website': 'https://hoo.be/jeffbezos',\n",
       " 'joined': '10:38 PM - 20 Jul 2008',\n",
       " 'stats': {'tweets': 397,\n",
       "  'following': 276,\n",
       "  'followers': 6294608,\n",
       "  'likes': 131,\n",
       "  'media': 171}}"
      ]
     },
     "execution_count": 105,
     "metadata": {},
     "output_type": "execute_result"
    }
   ],
   "source": [
    "tweets"
   ]
  },
  {
   "cell_type": "code",
   "execution_count": 106,
   "id": "da5d2f6a-dd29-45d7-a3e3-ec8200ea9b71",
   "metadata": {},
   "outputs": [
    {
     "data": {
      "text/plain": [
       "'https://pbs.twimg.com/profile_images/1591558315254890500/ETIHb4Nl_400x400.jpg'"
      ]
     },
     "execution_count": 106,
     "metadata": {},
     "output_type": "execute_result"
    }
   ],
   "source": [
    "tweets['image']"
   ]
  },
  {
   "cell_type": "code",
   "execution_count": 116,
   "id": "eb741d7a-2d62-4a15-a947-81b2af790584",
   "metadata": {},
   "outputs": [],
   "source": [
    "def get_tweets(name, modes, no):\n",
    "    tweets = scraper.get_tweets(name, mode = modes, number=no)\n",
    "    final_tweets = []\n",
    "    for x in tweets['tweets']:\n",
    "        data = [x['link'], x['text'],x['date'],x['stats']['likes'],x['stats']['comments']]\n",
    "        final_tweets.append(data)\n",
    "    dat= pd.DataFrame(final_tweets, columns =['twitter_link','text','date','likes','comments'])\n",
    "    return dat"
   ]
  },
  {
   "cell_type": "code",
   "execution_count": 124,
   "id": "85196f3c-2058-44b4-b9b0-9a93f44453e7",
   "metadata": {},
   "outputs": [],
   "source": [
    "data = get_tweets('JeffBezos','user',6)"
   ]
  },
  {
   "cell_type": "code",
   "execution_count": 122,
   "id": "d23ebe69-b031-4da4-b61d-009fbc7350d7",
   "metadata": {},
   "outputs": [
    {
     "data": {
      "text/html": [
       "<div>\n",
       "<style scoped>\n",
       "    .dataframe tbody tr th:only-of-type {\n",
       "        vertical-align: middle;\n",
       "    }\n",
       "\n",
       "    .dataframe tbody tr th {\n",
       "        vertical-align: top;\n",
       "    }\n",
       "\n",
       "    .dataframe thead th {\n",
       "        text-align: right;\n",
       "    }\n",
       "</style>\n",
       "<table border=\"1\" class=\"dataframe\">\n",
       "  <thead>\n",
       "    <tr style=\"text-align: right;\">\n",
       "      <th></th>\n",
       "      <th>twitter_link</th>\n",
       "      <th>text</th>\n",
       "      <th>date</th>\n",
       "      <th>likes</th>\n",
       "      <th>comments</th>\n",
       "    </tr>\n",
       "  </thead>\n",
       "  <tbody>\n",
       "    <tr>\n",
       "      <th>0</th>\n",
       "      <td>https://twitter.com/SenBillNelson/status/17179...</td>\n",
       "      <td>Impressive visit to the @blueorigin Huntsville...</td>\n",
       "      <td>Oct 27, 2023 · 2:00 PM UTC</td>\n",
       "      <td>2290</td>\n",
       "      <td>568</td>\n",
       "    </tr>\n",
       "    <tr>\n",
       "      <th>1</th>\n",
       "      <td>https://twitter.com/torybruno/status/166661245...</td>\n",
       "      <td>Nominal run!</td>\n",
       "      <td>Jun 8, 2023 · 1:05 AM UTC</td>\n",
       "      <td>3645</td>\n",
       "      <td>881</td>\n",
       "    </tr>\n",
       "    <tr>\n",
       "      <th>2</th>\n",
       "      <td>https://twitter.com/JeffBezos/status/165957630...</td>\n",
       "      <td>Honored to be on this journey with @NASA to la...</td>\n",
       "      <td>May 19, 2023 · 3:06 PM UTC</td>\n",
       "      <td>12285</td>\n",
       "      <td>3728</td>\n",
       "    </tr>\n",
       "    <tr>\n",
       "      <th>3</th>\n",
       "      <td>https://twitter.com/JeffBezos/status/162522482...</td>\n",
       "      <td>Big milestone. Kudos and congrats to the whole...</td>\n",
       "      <td>Feb 13, 2023 · 8:06 PM UTC</td>\n",
       "      <td>4886</td>\n",
       "      <td>3777</td>\n",
       "    </tr>\n",
       "    <tr>\n",
       "      <th>4</th>\n",
       "      <td>https://twitter.com/JeffBezos/status/162046673...</td>\n",
       "      <td>Episode 3 of Last of Us is unbelievably good s...</td>\n",
       "      <td>Jan 31, 2023 · 4:59 PM UTC</td>\n",
       "      <td>30056</td>\n",
       "      <td>2526</td>\n",
       "    </tr>\n",
       "    <tr>\n",
       "      <th>5</th>\n",
       "      <td>https://twitter.com/JeffBezos/status/161941882...</td>\n",
       "      <td>Thank you Bill and Tim. So nice. Gratitude.</td>\n",
       "      <td>Jan 28, 2023 · 7:35 PM UTC</td>\n",
       "      <td>2833</td>\n",
       "      <td>1097</td>\n",
       "    </tr>\n",
       "  </tbody>\n",
       "</table>\n",
       "</div>"
      ],
      "text/plain": [
       "                                        twitter_link  \\\n",
       "0  https://twitter.com/SenBillNelson/status/17179...   \n",
       "1  https://twitter.com/torybruno/status/166661245...   \n",
       "2  https://twitter.com/JeffBezos/status/165957630...   \n",
       "3  https://twitter.com/JeffBezos/status/162522482...   \n",
       "4  https://twitter.com/JeffBezos/status/162046673...   \n",
       "5  https://twitter.com/JeffBezos/status/161941882...   \n",
       "\n",
       "                                                text  \\\n",
       "0  Impressive visit to the @blueorigin Huntsville...   \n",
       "1                                       Nominal run!   \n",
       "2  Honored to be on this journey with @NASA to la...   \n",
       "3  Big milestone. Kudos and congrats to the whole...   \n",
       "4  Episode 3 of Last of Us is unbelievably good s...   \n",
       "5        Thank you Bill and Tim. So nice. Gratitude.   \n",
       "\n",
       "                         date  likes  comments  \n",
       "0  Oct 27, 2023 · 2:00 PM UTC   2290       568  \n",
       "1   Jun 8, 2023 · 1:05 AM UTC   3645       881  \n",
       "2  May 19, 2023 · 3:06 PM UTC  12285      3728  \n",
       "3  Feb 13, 2023 · 8:06 PM UTC   4886      3777  \n",
       "4  Jan 31, 2023 · 4:59 PM UTC  30056      2526  \n",
       "5  Jan 28, 2023 · 7:35 PM UTC   2833      1097  "
      ]
     },
     "execution_count": 122,
     "metadata": {},
     "output_type": "execute_result"
    }
   ],
   "source": [
    "data"
   ]
  },
  {
   "cell_type": "code",
   "execution_count": 126,
   "id": "c4efb192-6e73-4b61-acf6-b9afb94214cf",
   "metadata": {},
   "outputs": [
    {
     "data": {
      "text/plain": [
       "{'image': 'https://pbs.twimg.com/profile_images/1674815862879178752/nTGMV1Eo_400x400.jpg',\n",
       " 'name': 'Bill Gates',\n",
       " 'username': '@BillGates',\n",
       " 'id': '50393960',\n",
       " 'bio': \"Sharing things I'm learning through my foundation work and other interests.\",\n",
       " 'location': 'Seattle, WA',\n",
       " 'website': 'https://gatesnot.es/blog',\n",
       " 'joined': '6:44 PM - 24 Jun 2009',\n",
       " 'stats': {'tweets': 4440,\n",
       "  'following': 583,\n",
       "  'followers': 64283753,\n",
       "  'likes': 540,\n",
       "  'media': 1511}}"
      ]
     },
     "execution_count": 126,
     "metadata": {},
     "output_type": "execute_result"
    }
   ],
   "source": [
    "scraper.get_profile_info('BillGates')"
   ]
  },
  {
   "cell_type": "code",
   "execution_count": null,
   "id": "7327d6be-2e4e-414b-9eb0-eaeb96e0a71a",
   "metadata": {},
   "outputs": [],
   "source": []
  }
 ],
 "metadata": {
  "kernelspec": {
   "display_name": "Python 3 (ipykernel)",
   "language": "python",
   "name": "python3"
  },
  "language_info": {
   "codemirror_mode": {
    "name": "ipython",
    "version": 3
   },
   "file_extension": ".py",
   "mimetype": "text/x-python",
   "name": "python",
   "nbconvert_exporter": "python",
   "pygments_lexer": "ipython3",
   "version": "3.11.6"
  }
 },
 "nbformat": 4,
 "nbformat_minor": 5
}
