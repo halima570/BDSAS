{
 "cells": [
  {
   "cell_type": "code",
   "execution_count": 1,
   "id": "cadd2a8f",
   "metadata": {},
   "outputs": [
    {
     "name": "stdout",
     "output_type": "stream",
     "text": [
      "Lasso MSE: 2798.1909687423636\n",
      "Ridge MSE: 2856.481731570087\n"
     ]
    }
   ],
   "source": [
    "from sklearn.linear_model import Lasso, Ridge\n",
    "from sklearn.datasets import load_diabetes\n",
    "from sklearn.model_selection import train_test_split\n",
    "from sklearn.metrics import mean_squared_error\n",
    "\n",
    "# Load dataset\n",
    "X, y = load_diabetes(return_X_y=True)\n",
    "\n",
    "# Split data into train and test sets\n",
    "X_train, X_test, y_train, y_test = train_test_split(X, y, test_size=0.2, random_state=42)\n",
    "\n",
    "# Initialize and train Lasso regression model\n",
    "lasso_model = Lasso(alpha=0.1)  # Set regularization parameter alpha\n",
    "lasso_model.fit(X_train, y_train)\n",
    "\n",
    "# Make predictions on test data\n",
    "lasso_predictions = lasso_model.predict(X_test)\n",
    "\n",
    "# Compute mean squared error\n",
    "lasso_mse = mean_squared_error(y_test, lasso_predictions)\n",
    "print(\"Lasso MSE:\", lasso_mse)\n",
    "\n",
    "# Initialize and train Ridge regression model\n",
    "ridge_model = Ridge(alpha=0.1)  # Set regularization parameter alpha\n",
    "ridge_model.fit(X_train, y_train)\n",
    "\n",
    "# Make predictions on test data\n",
    "ridge_predictions = ridge_model.predict(X_test)\n",
    "\n",
    "# Compute mean squared error\n",
    "ridge_mse = mean_squared_error(y_test, ridge_predictions)\n",
    "print(\"Ridge MSE:\", ridge_mse)\n"
   ]
  },
  {
   "cell_type": "code",
   "execution_count": null,
   "id": "52793bec",
   "metadata": {},
   "outputs": [],
   "source": []
  }
 ],
 "metadata": {
  "kernelspec": {
   "display_name": "Python 3 (ipykernel)",
   "language": "python",
   "name": "python3"
  },
  "language_info": {
   "codemirror_mode": {
    "name": "ipython",
    "version": 3
   },
   "file_extension": ".py",
   "mimetype": "text/x-python",
   "name": "python",
   "nbconvert_exporter": "python",
   "pygments_lexer": "ipython3",
   "version": "3.9.13"
  }
 },
 "nbformat": 4,
 "nbformat_minor": 5
}
