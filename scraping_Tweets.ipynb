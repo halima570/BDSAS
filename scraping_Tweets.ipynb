{
 "cells": [
  {
   "cell_type": "code",
   "execution_count": 2,
   "id": "dc6439c5",
   "metadata": {},
   "outputs": [],
   "source": [
    "from ntscraper import Nitter\n"
   ]
  },
  {
   "cell_type": "code",
   "execution_count": 8,
   "id": "1005dbb4",
   "metadata": {},
   "outputs": [
    {
     "name": "stderr",
     "output_type": "stream",
     "text": [
      "Testing instances:  92%|██████████████████████████████████████████████████████████     | 71/77 [01:32<00:15,  2.55s/it]"
     ]
    },
    {
     "name": "stdout",
     "output_type": "stream",
     "text": [
      "01-Apr-24 17:36:45 - Certificate did not match expected hostname: nt.ggtyler.dev. Certificate: {'subject': ((('commonName', '4g.ggtyler.dev'),),), 'issuer': ((('countryName', 'US'),), (('organizationName', \"Let's Encrypt\"),), (('commonName', 'R3'),)), 'version': 3, 'serialNumber': '048FA3D68DCD65927A6C57C2A3C9C1F8CA14', 'notBefore': 'Mar 15 00:26:35 2024 GMT', 'notAfter': 'Jun 13 00:26:34 2024 GMT', 'subjectAltName': (('DNS', '4g.ggtyler.dev'),), 'OCSP': ('http://r3.o.lencr.org',), 'caIssuers': ('http://r3.i.lencr.org/',)}\n"
     ]
    },
    {
     "name": "stderr",
     "output_type": "stream",
     "text": [
      "\r",
      "Testing instances:  94%|██████████████████████████████████████████████████████████▉    | 72/77 [01:32<00:10,  2.16s/it]"
     ]
    },
    {
     "name": "stdout",
     "output_type": "stream",
     "text": [
      "01-Apr-24 17:36:46 - Certificate did not match expected hostname: nitter.uni-sonia.com. Certificate: {'subject': ((('commonName', '*.xserver.jp'),),), 'issuer': ((('countryName', 'JP'),), (('stateOrProvinceName', 'OSAKA'),), (('localityName', 'OSAKA'),), (('organizationName', 'SecureCore'),), (('commonName', 'SecureCore RSA DV CA'),)), 'version': 3, 'serialNumber': 'BF71C31D26716FA7B20B958F0053B3ED', 'notBefore': 'Mar 31 00:00:00 2023 GMT', 'notAfter': 'Apr 30 23:59:59 2024 GMT', 'subjectAltName': (('DNS', '*.xserver.jp'), ('DNS', 'xserver.jp')), 'OCSP': ('http://ocsp.securecore-ca.com',), 'caIssuers': ('http://crt.securecore-ca.com/SecureCoreRSADVCA.crt',), 'crlDistributionPoints': ('http://crl.securecore-ca.com/SecureCoreRSADVCA.crl',)}\n"
     ]
    },
    {
     "name": "stderr",
     "output_type": "stream",
     "text": [
      "Testing instances: 100%|███████████████████████████████████████████████████████████████| 77/77 [01:36<00:00,  1.26s/it]\n"
     ]
    }
   ],
   "source": [
    "scraper = Nitter(log_level = 1,skip_instance_check= False)"
   ]
  },
  {
   "cell_type": "code",
   "execution_count": 10,
   "id": "fdffa3ba",
   "metadata": {},
   "outputs": [
    {
     "name": "stdout",
     "output_type": "stream",
     "text": [
      "01-Apr-24 17:38:04 - No instance specified, using random instance https://nitter.eu.projectsegfau.lt\n",
      "01-Apr-24 17:38:05 - Empty page on https://nitter.eu.projectsegfau.lt\n"
     ]
    }
   ],
   "source": [
    "\n",
    "tweets = scraper.get_tweets(\"Morocco\", mode = 'hashtag', number=10)\n",
    "\n",
    "#tweets = scraper.get_tweets(\"elonmusk\",mode=\"user\",number=100)"
   ]
  },
  {
   "cell_type": "code",
   "execution_count": 31,
   "id": "20ecabcb",
   "metadata": {},
   "outputs": [],
   "source": [
    "from pprint import pprint"
   ]
  },
  {
   "cell_type": "code",
   "execution_count": 32,
   "id": "10a06585",
   "metadata": {},
   "outputs": [
    {
     "name": "stdout",
     "output_type": "stream",
     "text": [
      "{'threads': [], 'tweets': []}\n"
     ]
    }
   ],
   "source": [
    "pprint(tweets)"
   ]
  },
  {
   "cell_type": "code",
   "execution_count": 83,
   "id": "a2ae9928",
   "metadata": {},
   "outputs": [
    {
     "data": {
      "text/plain": [
       "dict_keys(['tweets', 'threads'])"
      ]
     },
     "execution_count": 83,
     "metadata": {},
     "output_type": "execute_result"
    }
   ],
   "source": [
    "tweets.keys()"
   ]
  },
  {
   "cell_type": "code",
   "execution_count": 84,
   "id": "cc46d930",
   "metadata": {},
   "outputs": [
    {
     "ename": "IndexError",
     "evalue": "list index out of range",
     "output_type": "error",
     "traceback": [
      "\u001b[1;31m---------------------------------------------------------------------------\u001b[0m",
      "\u001b[1;31mIndexError\u001b[0m                                Traceback (most recent call last)",
      "\u001b[1;32m~\\AppData\\Local\\Temp\\ipykernel_18968\\3326931922.py\u001b[0m in \u001b[0;36m<module>\u001b[1;34m\u001b[0m\n\u001b[1;32m----> 1\u001b[1;33m \u001b[0mtweets\u001b[0m\u001b[1;33m[\u001b[0m\u001b[1;34m'tweets'\u001b[0m\u001b[1;33m]\u001b[0m\u001b[1;33m[\u001b[0m\u001b[1;36m0\u001b[0m\u001b[1;33m]\u001b[0m\u001b[1;33m\u001b[0m\u001b[1;33m\u001b[0m\u001b[0m\n\u001b[0m",
      "\u001b[1;31mIndexError\u001b[0m: list index out of range"
     ]
    }
   ],
   "source": [
    "tweets['tweets'][0]"
   ]
  },
  {
   "cell_type": "code",
   "execution_count": 85,
   "id": "a511b60e",
   "metadata": {},
   "outputs": [
    {
     "name": "stdout",
     "output_type": "stream",
     "text": [
      "01-Apr-24 16:01:09 - No instance specified, using random instance https://nitter.us.projectsegfau.lt\n",
      "01-Apr-24 16:01:12 - Empty page on https://nitter.us.projectsegfau.lt\n"
     ]
    }
   ],
   "source": [
    "elon_info = scraper.get_profile_info(username=\"elonmusk\")"
   ]
  },
  {
   "cell_type": "code",
   "execution_count": 86,
   "id": "82a6e3d3",
   "metadata": {},
   "outputs": [
    {
     "name": "stdout",
     "output_type": "stream",
     "text": [
      "None\n"
     ]
    }
   ],
   "source": [
    "pprint(elon_info)"
   ]
  },
  {
   "cell_type": "code",
   "execution_count": 87,
   "id": "cb52cca0",
   "metadata": {},
   "outputs": [],
   "source": [
    "data = {\n",
    "    'link':[],\n",
    "    'text':[],\n",
    "    'user':[],\n",
    "    'likes':[],\n",
    "    'quotes':[],\n",
    "    'retweets':[],\n",
    "    'comments':[]\n",
    "}\n",
    "\n",
    "for tweet in tweets['tweets']:\n",
    "    data['link'].append(tweet['link'])\n",
    "    data['text'].append(tweet['text'])\n",
    "    data['user'].append(tweet['user']['name'])\n",
    "    data['likes'].append(tweet['stats']['likes'])\n",
    "    data['quotes'].append(tweet['stats']['quotes'])    \n",
    "    data['retweets'].append(tweet['stats']['retweets'])    \n",
    "    data['comments'].append(tweet['stats']['comments'])    "
   ]
  },
  {
   "cell_type": "code",
   "execution_count": 88,
   "id": "ebe6c00a",
   "metadata": {},
   "outputs": [
    {
     "data": {
      "text/plain": [
       "{'link': [],\n",
       " 'text': [],\n",
       " 'user': [],\n",
       " 'likes': [],\n",
       " 'quotes': [],\n",
       " 'retweets': [],\n",
       " 'comments': []}"
      ]
     },
     "execution_count": 88,
     "metadata": {},
     "output_type": "execute_result"
    }
   ],
   "source": [
    "data"
   ]
  },
  {
   "cell_type": "code",
   "execution_count": 89,
   "id": "78458abf",
   "metadata": {},
   "outputs": [
    {
     "data": {
      "text/html": [
       "<div>\n",
       "<style scoped>\n",
       "    .dataframe tbody tr th:only-of-type {\n",
       "        vertical-align: middle;\n",
       "    }\n",
       "\n",
       "    .dataframe tbody tr th {\n",
       "        vertical-align: top;\n",
       "    }\n",
       "\n",
       "    .dataframe thead th {\n",
       "        text-align: right;\n",
       "    }\n",
       "</style>\n",
       "<table border=\"1\" class=\"dataframe\">\n",
       "  <thead>\n",
       "    <tr style=\"text-align: right;\">\n",
       "      <th></th>\n",
       "      <th>link</th>\n",
       "      <th>text</th>\n",
       "      <th>user</th>\n",
       "      <th>likes</th>\n",
       "      <th>quotes</th>\n",
       "      <th>retweets</th>\n",
       "      <th>comments</th>\n",
       "    </tr>\n",
       "  </thead>\n",
       "  <tbody>\n",
       "  </tbody>\n",
       "</table>\n",
       "</div>"
      ],
      "text/plain": [
       "Empty DataFrame\n",
       "Columns: [link, text, user, likes, quotes, retweets, comments]\n",
       "Index: []"
      ]
     },
     "execution_count": 89,
     "metadata": {},
     "output_type": "execute_result"
    }
   ],
   "source": [
    "import pandas as pd\n",
    "df = pd.DataFrame(data)\n",
    "df.head()"
   ]
  },
  {
   "cell_type": "code",
   "execution_count": 90,
   "id": "f4e69d76",
   "metadata": {},
   "outputs": [],
   "source": [
    "df.to_csv(\"Elon_data.csv\")"
   ]
  },
  {
   "cell_type": "code",
   "execution_count": 6,
   "id": "a6f31e54",
   "metadata": {},
   "outputs": [
    {
     "name": "stderr",
     "output_type": "stream",
     "text": [
      "Testing instances:  92%|██████████████████████████████████████████████████████████     | 71/77 [01:31<00:15,  2.54s/it]"
     ]
    },
    {
     "name": "stdout",
     "output_type": "stream",
     "text": [
      "01-Apr-24 17:34:33 - Certificate did not match expected hostname: nt.ggtyler.dev. Certificate: {'subject': ((('commonName', '4g.ggtyler.dev'),),), 'issuer': ((('countryName', 'US'),), (('organizationName', \"Let's Encrypt\"),), (('commonName', 'R3'),)), 'version': 3, 'serialNumber': '048FA3D68DCD65927A6C57C2A3C9C1F8CA14', 'notBefore': 'Mar 15 00:26:35 2024 GMT', 'notAfter': 'Jun 13 00:26:34 2024 GMT', 'subjectAltName': (('DNS', '4g.ggtyler.dev'),), 'OCSP': ('http://r3.o.lencr.org',), 'caIssuers': ('http://r3.i.lencr.org/',)}\n"
     ]
    },
    {
     "name": "stderr",
     "output_type": "stream",
     "text": [
      "\r",
      "Testing instances:  94%|██████████████████████████████████████████████████████████▉    | 72/77 [01:31<00:10,  2.10s/it]"
     ]
    },
    {
     "name": "stdout",
     "output_type": "stream",
     "text": [
      "01-Apr-24 17:34:33 - Certificate did not match expected hostname: nitter.uni-sonia.com. Certificate: {'subject': ((('commonName', '*.xserver.jp'),),), 'issuer': ((('countryName', 'JP'),), (('stateOrProvinceName', 'OSAKA'),), (('localityName', 'OSAKA'),), (('organizationName', 'SecureCore'),), (('commonName', 'SecureCore RSA DV CA'),)), 'version': 3, 'serialNumber': 'BF71C31D26716FA7B20B958F0053B3ED', 'notBefore': 'Mar 31 00:00:00 2023 GMT', 'notAfter': 'Apr 30 23:59:59 2024 GMT', 'subjectAltName': (('DNS', '*.xserver.jp'), ('DNS', 'xserver.jp')), 'OCSP': ('http://ocsp.securecore-ca.com',), 'caIssuers': ('http://crt.securecore-ca.com/SecureCoreRSADVCA.crt',), 'crlDistributionPoints': ('http://crl.securecore-ca.com/SecureCoreRSADVCA.crl',)}\n"
     ]
    },
    {
     "name": "stderr",
     "output_type": "stream",
     "text": [
      "Testing instances: 100%|███████████████████████████████████████████████████████████████| 77/77 [01:35<00:00,  1.24s/it]\n"
     ]
    }
   ],
   "source": [
    "import pandas as pd\n",
    "scraper = Nitter()\n",
    "def create_tweets_dataset(username,no_of_tweets):\n",
    "    tweets = scraper.get_tweets(username,mode=\"hashtag\",number=no_of_tweets)\n",
    "    data = {\n",
    "        'link':[],\n",
    "        'text':[],\n",
    "        'user':[],\n",
    "        'likes':[],\n",
    "        'quotes':[],\n",
    "        'retweets':[],\n",
    "        'comments':[]\n",
    "    }\n",
    "\n",
    "    for tweet in tweets['tweets']:\n",
    "        data['link'].append(tweet['link'])\n",
    "        data['text'].append(tweet['text'])\n",
    "        data['user'].append(tweet['user']['name'])\n",
    "        data['likes'].append(tweet['stats']['likes'])\n",
    "        data['quotes'].append(tweet['stats']['quotes'])    \n",
    "        data['retweets'].append(tweet['stats']['retweets'])    \n",
    "        data['comments'].append(tweet['stats']['comments'])    \n",
    "    df = pd.DataFrame(data)\n",
    "    df.to_csv(username+\"_tweets_data.csv\")"
   ]
  },
  {
   "cell_type": "code",
   "execution_count": 7,
   "id": "22969d03",
   "metadata": {},
   "outputs": [
    {
     "name": "stdout",
     "output_type": "stream",
     "text": [
      "01-Apr-24 17:34:58 - No instance specified, using random instance https://nitter.in.projectsegfau.lt\n",
      "01-Apr-24 17:35:00 - Empty page on https://nitter.in.projectsegfau.lt\n"
     ]
    }
   ],
   "source": [
    "create_tweets_dataset(\"Morocco\",10)"
   ]
  },
  {
   "cell_type": "code",
   "execution_count": null,
   "id": "2f8146bf",
   "metadata": {},
   "outputs": [],
   "source": []
  },
  {
   "cell_type": "code",
   "execution_count": null,
   "id": "3bf801f8",
   "metadata": {},
   "outputs": [],
   "source": []
  }
 ],
 "metadata": {
  "kernelspec": {
   "display_name": "Python 3 (ipykernel)",
   "language": "python",
   "name": "python3"
  },
  "language_info": {
   "codemirror_mode": {
    "name": "ipython",
    "version": 3
   },
   "file_extension": ".py",
   "mimetype": "text/x-python",
   "name": "python",
   "nbconvert_exporter": "python",
   "pygments_lexer": "ipython3",
   "version": "3.9.13"
  }
 },
 "nbformat": 4,
 "nbformat_minor": 5
}
