{
 "cells": [
  {
   "cell_type": "code",
   "execution_count": 1,
   "id": "a0b0f65b-e05c-4b4f-8708-b6d4b58476a3",
   "metadata": {},
   "outputs": [],
   "source": [
    "from keras.models import Sequential\n",
    "from keras.layers import Dense,Activation"
   ]
  },
  {
   "cell_type": "markdown",
   "id": "8ee94273-9e2e-4ccc-ab3b-33c7669ab8a2",
   "metadata": {},
   "source": [
    "sequentiel model"
   ]
  },
  {
   "cell_type": "code",
   "execution_count": 2,
   "id": "76f628c5-721e-4135-afb3-0bdca7b1010a",
   "metadata": {},
   "outputs": [],
   "source": [
    "model = Sequential()\n",
    "model.add(Dense(1024, activation='relu'))\n",
    "model.add(Dense(10, activation='softmax'))\n"
   ]
  },
  {
   "cell_type": "code",
   "execution_count": 3,
   "id": "224f865d-aa75-49fb-9aa9-d4853080d450",
   "metadata": {},
   "outputs": [],
   "source": [
    "from keras.datasets import mnist\n",
    "(X_train, y_train), (X_test, y_test) = mnist.load_data()\n",
    "X_train = X_train.reshape(60000, 784)\n",
    "X_test = X_test.reshape(10000, 784)\n",
    "X_train = X_train.astype('float32')\n",
    "X_test = X_test.astype('float32')\n",
    "X_train /= 255\n",
    "X_test /= 255"
   ]
  },
  {
   "cell_type": "code",
   "execution_count": 4,
   "id": "cd34b0b5-c0e5-4556-ada6-69249bcc8d6c",
   "metadata": {},
   "outputs": [
    {
     "name": "stdout",
     "output_type": "stream",
     "text": [
      "60000 train samples\n",
      "10000 test samples\n"
     ]
    }
   ],
   "source": [
    "print(X_train.shape[0], 'train samples')\n",
    "print(X_test.shape[0], 'test samples')\n"
   ]
  },
  {
   "cell_type": "code",
   "execution_count": 5,
   "id": "18eee943-a68d-4d4e-9e59-a4c9e37ad26e",
   "metadata": {},
   "outputs": [],
   "source": [
    "from keras.utils import np_utils\n",
    "Y_train = np_utils.to_categorical(y_train, 10)\n",
    "Y_test = np_utils.to_categorical(y_test, 10)\n"
   ]
  },
  {
   "cell_type": "code",
   "execution_count": 6,
   "id": "e365f0fb-882e-4911-bad2-aa7f5cfcf2a3",
   "metadata": {},
   "outputs": [
    {
     "name": "stdout",
     "output_type": "stream",
     "text": [
      "Epoch 1/10\n",
      "600/600 [==============================] - 7s 11ms/step - loss: 0.2245 - accuracy: 0.9348\n",
      "Epoch 2/10\n",
      "600/600 [==============================] - 6s 11ms/step - loss: 0.0873 - accuracy: 0.9734\n",
      "Epoch 3/10\n",
      "600/600 [==============================] - 7s 11ms/step - loss: 0.0549 - accuracy: 0.9837\n",
      "Epoch 4/10\n",
      "600/600 [==============================] - 8s 14ms/step - loss: 0.0385 - accuracy: 0.9881\n",
      "Epoch 5/10\n",
      "600/600 [==============================] - 8s 13ms/step - loss: 0.0260 - accuracy: 0.9924\n",
      "Epoch 6/10\n",
      "600/600 [==============================] - 8s 14ms/step - loss: 0.0192 - accuracy: 0.9941\n",
      "Epoch 7/10\n",
      "600/600 [==============================] - 9s 14ms/step - loss: 0.0139 - accuracy: 0.9960\n",
      "Epoch 8/10\n",
      "600/600 [==============================] - 8s 13ms/step - loss: 0.0121 - accuracy: 0.9967\n",
      "Epoch 9/10\n",
      "600/600 [==============================] - 6s 10ms/step - loss: 0.0093 - accuracy: 0.9973\n",
      "Epoch 10/10\n",
      "600/600 [==============================] - 6s 10ms/step - loss: 0.0085 - accuracy: 0.9976\n"
     ]
    },
    {
     "data": {
      "text/plain": [
       "<keras.callbacks.History at 0x164a08b0190>"
      ]
     },
     "execution_count": 6,
     "metadata": {},
     "output_type": "execute_result"
    }
   ],
   "source": [
    "model.compile(loss='categorical_crossentropy',optimizer='Adam',metrics=['accuracy'])\n",
    "model.fit(X_train, Y_train,batch_size=100,epochs=10,verbose=1)\n"
   ]
  },
  {
   "cell_type": "code",
   "execution_count": 9,
   "id": "ddd10b1b-2753-4fbe-a107-de2b5a620de1",
   "metadata": {},
   "outputs": [
    {
     "name": "stdout",
     "output_type": "stream",
     "text": [
      "313/313 [==============================] - 1s 3ms/step - loss: 0.0817 - accuracy: 0.9778\n",
      "Loss: 0.082\n",
      "Accuracy: 0.978\n"
     ]
    }
   ],
   "source": [
    "# Evaluer le modèle\n",
    "scores = model.evaluate(X_test , Y_test)\n",
    "print('Loss: %.3f' % scores[0])\n",
    "print('Accuracy: %.3f' % scores[1])\n"
   ]
  },
  {
   "cell_type": "markdown",
   "id": "afe9e001-d935-4a1a-affb-3a1e1099599e",
   "metadata": {},
   "source": [
    "functional model"
   ]
  },
  {
   "cell_type": "code",
   "execution_count": 10,
   "id": "5c70cb7f-8d2b-4292-9cfe-d47fbc886c93",
   "metadata": {},
   "outputs": [],
   "source": [
    "from keras.layers import Input\n",
    "from keras.layers import Dense\n",
    "X=Input(shape=(3,))\n",
    "h1=Dense(3)(X)\n"
   ]
  },
  {
   "cell_type": "code",
   "execution_count": 11,
   "id": "0ca38ef2-7b39-418c-a0ea-6415864449f8",
   "metadata": {},
   "outputs": [],
   "source": [
    "from keras.models import Model\n",
    "model=Model(inputs=X,outputs=h1)"
   ]
  },
  {
   "cell_type": "code",
   "execution_count": 14,
   "id": "e13368f7-1edf-41d4-8840-83e2dca1eac4",
   "metadata": {},
   "outputs": [
    {
     "name": "stdout",
     "output_type": "stream",
     "text": [
      "Model: \"model_2\"\n",
      "_________________________________________________________________\n",
      " Layer (type)                Output Shape              Param #   \n",
      "=================================================================\n",
      " input_3 (InputLayer)        [(None, 10)]              0         \n",
      "                                                                 \n",
      " dense_7 (Dense)             (None, 10)                110       \n",
      "                                                                 \n",
      " dense_8 (Dense)             (None, 20)                220       \n",
      "                                                                 \n",
      " dense_9 (Dense)             (None, 10)                210       \n",
      "                                                                 \n",
      " dense_10 (Dense)            (None, 1)                 11        \n",
      "                                                                 \n",
      "=================================================================\n",
      "Total params: 551\n",
      "Trainable params: 551\n",
      "Non-trainable params: 0\n",
      "_________________________________________________________________\n",
      "None\n"
     ]
    }
   ],
   "source": [
    "from keras.utils import plot_model\n",
    "from keras.models import Model\n",
    "from keras.layers import Input\n",
    "from keras.layers import Dense\n",
    "X=Input(shape=(10,))\n",
    "hidden1=Dense(10,activation='relu')(X)\n",
    "hidden2=Dense(20,activation='relu')(hidden1)\n",
    "hidden3=Dense(10,activation='relu')(hidden2)\n",
    "output=Dense(1,activation='sigmoid')(hidden3)\n",
    "model=Model(inputs=X,outputs=output)\n",
    "print(model.summary())"
   ]
  },
  {
   "cell_type": "code",
   "execution_count": 15,
   "id": "cfb8a73a-251c-4204-8c43-52ade6524c18",
   "metadata": {},
   "outputs": [
    {
     "name": "stdout",
     "output_type": "stream",
     "text": [
      "784 train samples\n",
      "10000 test samples\n"
     ]
    }
   ],
   "source": [
    "from keras.datasets import mnist\n",
    "(X_train, y_train), (X_test, y_test) = mnist.load_data()\n",
    "X_train = X_train.reshape(60000, 784)\n",
    "X_test = X_test.reshape(10000, 784)\n",
    "X_train = X_train.astype('float32')\n",
    "X_test = X_test.astype('float32')\n",
    "X_train /= 255\n",
    "X_test /= 255\n",
    "print(X_train.shape[1], 'train samples')\n",
    "print(X_test.shape[0], 'test samples')\n"
   ]
  },
  {
   "cell_type": "code",
   "execution_count": 16,
   "id": "307f25cc-6aab-4bd5-9788-146254ff78d5",
   "metadata": {},
   "outputs": [
    {
     "name": "stdout",
     "output_type": "stream",
     "text": [
      "(60000, 784)\n",
      "(60000, 10)\n"
     ]
    }
   ],
   "source": [
    "from keras.utils import np_utils\n",
    "batch_size = 100\n",
    "nb_epoch = 10\n",
    "Y_train = np_utils.to_categorical(y_train, 10)\n",
    "Y_test = np_utils.to_categorical(y_test, 10)\n",
    "print(X_train.shape)\n",
    "print(Y_train.shape)\n"
   ]
  },
  {
   "cell_type": "code",
   "execution_count": 17,
   "id": "f24831d6-6414-4655-915d-fef07aa0baed",
   "metadata": {},
   "outputs": [
    {
     "name": "stdout",
     "output_type": "stream",
     "text": [
      "Model: \"model_3\"\n",
      "_________________________________________________________________\n",
      " Layer (type)                Output Shape              Param #   \n",
      "=================================================================\n",
      " input_4 (InputLayer)        [(None, 784)]             0         \n",
      "                                                                 \n",
      " dense_11 (Dense)            (None, 120)               94200     \n",
      "                                                                 \n",
      " dense_12 (Dense)            (None, 84)                10164     \n",
      "                                                                 \n",
      " dense_13 (Dense)            (None, 10)                850       \n",
      "                                                                 \n",
      "=================================================================\n",
      "Total params: 105,214\n",
      "Trainable params: 105,214\n",
      "Non-trainable params: 0\n",
      "_________________________________________________________________\n",
      "None\n"
     ]
    }
   ],
   "source": [
    "from keras.models import Model\n",
    "from keras.layers import Input\n",
    "from keras.layers import Dense\n",
    "X=Input(shape=(784,))\n",
    "hidden1=Dense(120,activation='relu')(X)\n",
    "hidden2=Dense(84,activation='relu')(hidden1)\n",
    "output=Dense(10, activation='softmax')(hidden2)\n",
    "model=Model(inputs=X,outputs=output)\n",
    "print(model.summary())\n"
   ]
  },
  {
   "cell_type": "code",
   "execution_count": 19,
   "id": "f13d243c-33e0-4894-8b46-b230bc5a9afc",
   "metadata": {},
   "outputs": [
    {
     "name": "stdout",
     "output_type": "stream",
     "text": [
      "Epoch 1/10\n",
      "600/600 [==============================] - 3s 4ms/step - loss: 0.3050 - accuracy: 0.9133\n",
      "Epoch 2/10\n",
      "600/600 [==============================] - 3s 4ms/step - loss: 0.1248 - accuracy: 0.9625\n",
      "Epoch 3/10\n",
      "600/600 [==============================] - 3s 5ms/step - loss: 0.0865 - accuracy: 0.9736\n",
      "Epoch 4/10\n",
      "600/600 [==============================] - 2s 4ms/step - loss: 0.0657 - accuracy: 0.9796\n",
      "Epoch 5/10\n",
      "600/600 [==============================] - 2s 4ms/step - loss: 0.0519 - accuracy: 0.9839\n",
      "Epoch 6/10\n",
      "600/600 [==============================] - 3s 4ms/step - loss: 0.0396 - accuracy: 0.9877\n",
      "Epoch 7/10\n",
      "600/600 [==============================] - 3s 4ms/step - loss: 0.0342 - accuracy: 0.9893\n",
      "Epoch 8/10\n",
      "600/600 [==============================] - 3s 4ms/step - loss: 0.0281 - accuracy: 0.9907\n",
      "Epoch 9/10\n",
      "600/600 [==============================] - 2s 4ms/step - loss: 0.0236 - accuracy: 0.9925\n",
      "Epoch 10/10\n",
      "600/600 [==============================] - 3s 5ms/step - loss: 0.0215 - accuracy: 0.9928\n",
      "313/313 [==============================] - 2s 4ms/step - loss: 0.0865 - accuracy: 0.9765\n",
      "Loss: 0.086\n",
      "Accuracy: 0.976\n"
     ]
    }
   ],
   "source": [
    "model.compile(loss='categorical_crossentropy',optimizer='Adam',metrics=['accuracy'])\n",
    "model.fit(X_train, Y_train,batch_size=batch_size, \n",
    "epochs=nb_epoch,verbose=1)\n",
    "# Evaluate the model\n",
    "scores = model.evaluate(X_test , Y_test)\n",
    "print('Loss: %.3f' % scores[0])\n",
    "print('Accuracy: %.3f' % scores[1])\n"
   ]
  },
  {
   "cell_type": "code",
   "execution_count": 22,
   "id": "c6eca866-dffb-4b41-ac82-646f3e56feac",
   "metadata": {},
   "outputs": [],
   "source": [
    "from sklearn import datasets\n",
    "from sklearn.model_selection import train_test_split\n",
    "import random\n",
    "from keras.models import Model\n",
    "from keras.models import Sequential\n",
    "from tensorflow.keras.utils import to_categorical\n",
    "from keras.layers import Dense,Activation\n",
    "irisData = datasets.load_iris()\n",
    "x_train,x_test,y_train,y_test=train_test_split(irisData.data,irisData.target,test_size=0.2,random_state=random.seed())\n",
    "y_train = to_categorical(y_train)\n",
    "y_test = to_categorical(y_test)\n"
   ]
  },
  {
   "cell_type": "code",
   "execution_count": 23,
   "id": "6265bb8e-ca3a-451c-8e6c-80ab22546022",
   "metadata": {},
   "outputs": [
    {
     "name": "stdout",
     "output_type": "stream",
     "text": [
      "Epoch 1/100\n",
      "8/8 [==============================] - 2s 69ms/step - loss: 0.9656 - accuracy: 0.5417 - val_loss: 0.8448 - val_accuracy: 0.6333\n",
      "Epoch 2/100\n",
      "8/8 [==============================] - 0s 15ms/step - loss: 0.7696 - accuracy: 0.6833 - val_loss: 0.7484 - val_accuracy: 0.6000\n",
      "Epoch 3/100\n",
      "8/8 [==============================] - 0s 14ms/step - loss: 0.6250 - accuracy: 0.7500 - val_loss: 0.6211 - val_accuracy: 0.9000\n",
      "Epoch 4/100\n",
      "8/8 [==============================] - 0s 13ms/step - loss: 0.5248 - accuracy: 0.9417 - val_loss: 0.5281 - val_accuracy: 0.9333\n",
      "Epoch 5/100\n",
      "8/8 [==============================] - 0s 12ms/step - loss: 0.4420 - accuracy: 0.9083 - val_loss: 0.4686 - val_accuracy: 0.9333\n",
      "Epoch 6/100\n",
      "8/8 [==============================] - 0s 11ms/step - loss: 0.3804 - accuracy: 0.9083 - val_loss: 0.4093 - val_accuracy: 0.9333\n",
      "Epoch 7/100\n",
      "8/8 [==============================] - 0s 14ms/step - loss: 0.3452 - accuracy: 0.8917 - val_loss: 0.3704 - val_accuracy: 0.9333\n",
      "Epoch 8/100\n",
      "8/8 [==============================] - 0s 13ms/step - loss: 0.3022 - accuracy: 0.9917 - val_loss: 0.3476 - val_accuracy: 0.9000\n",
      "Epoch 9/100\n",
      "8/8 [==============================] - 0s 11ms/step - loss: 0.2779 - accuracy: 0.9667 - val_loss: 0.3169 - val_accuracy: 0.9333\n",
      "Epoch 10/100\n",
      "8/8 [==============================] - 0s 12ms/step - loss: 0.2501 - accuracy: 0.9750 - val_loss: 0.2944 - val_accuracy: 0.9667\n",
      "Epoch 11/100\n",
      "8/8 [==============================] - 0s 12ms/step - loss: 0.2253 - accuracy: 0.9833 - val_loss: 0.2714 - val_accuracy: 0.9333\n",
      "Epoch 12/100\n",
      "8/8 [==============================] - 0s 13ms/step - loss: 0.2062 - accuracy: 0.9750 - val_loss: 0.2540 - val_accuracy: 0.9667\n",
      "Epoch 13/100\n",
      "8/8 [==============================] - 0s 30ms/step - loss: 0.1926 - accuracy: 1.0000 - val_loss: 0.2380 - val_accuracy: 0.9667\n",
      "Epoch 14/100\n",
      "8/8 [==============================] - 0s 12ms/step - loss: 0.1810 - accuracy: 0.9667 - val_loss: 0.2263 - val_accuracy: 0.9667\n",
      "Epoch 15/100\n",
      "8/8 [==============================] - 0s 12ms/step - loss: 0.1630 - accuracy: 0.9667 - val_loss: 0.2190 - val_accuracy: 0.9667\n",
      "Epoch 16/100\n",
      "8/8 [==============================] - 0s 12ms/step - loss: 0.1507 - accuracy: 0.9750 - val_loss: 0.2083 - val_accuracy: 0.9667\n",
      "Epoch 17/100\n",
      "8/8 [==============================] - 0s 12ms/step - loss: 0.1388 - accuracy: 0.9833 - val_loss: 0.2026 - val_accuracy: 0.9333\n",
      "Epoch 18/100\n",
      "8/8 [==============================] - 0s 12ms/step - loss: 0.1304 - accuracy: 0.9833 - val_loss: 0.1916 - val_accuracy: 0.9667\n",
      "Epoch 19/100\n",
      "8/8 [==============================] - 0s 12ms/step - loss: 0.1208 - accuracy: 0.9750 - val_loss: 0.1874 - val_accuracy: 0.9667\n",
      "Epoch 20/100\n",
      "8/8 [==============================] - 0s 12ms/step - loss: 0.1179 - accuracy: 0.9833 - val_loss: 0.1821 - val_accuracy: 0.9667\n",
      "Epoch 21/100\n",
      "8/8 [==============================] - 0s 13ms/step - loss: 0.1153 - accuracy: 0.9833 - val_loss: 0.1789 - val_accuracy: 0.9667\n",
      "Epoch 22/100\n",
      "8/8 [==============================] - 0s 11ms/step - loss: 0.1060 - accuracy: 0.9833 - val_loss: 0.1750 - val_accuracy: 0.9333\n",
      "Epoch 23/100\n",
      "8/8 [==============================] - 0s 12ms/step - loss: 0.0984 - accuracy: 0.9750 - val_loss: 0.1782 - val_accuracy: 0.9000\n",
      "Epoch 24/100\n",
      "8/8 [==============================] - 0s 11ms/step - loss: 0.0961 - accuracy: 1.0000 - val_loss: 0.1755 - val_accuracy: 0.9333\n",
      "Epoch 25/100\n",
      "8/8 [==============================] - 0s 11ms/step - loss: 0.0910 - accuracy: 0.9750 - val_loss: 0.1886 - val_accuracy: 0.9000\n",
      "Epoch 26/100\n",
      "8/8 [==============================] - 0s 14ms/step - loss: 0.0930 - accuracy: 0.9917 - val_loss: 0.1654 - val_accuracy: 0.9667\n",
      "Epoch 27/100\n",
      "8/8 [==============================] - 0s 38ms/step - loss: 0.0936 - accuracy: 0.9750 - val_loss: 0.1637 - val_accuracy: 0.9667\n",
      "Epoch 28/100\n",
      "8/8 [==============================] - 0s 11ms/step - loss: 0.0821 - accuracy: 0.9917 - val_loss: 0.1668 - val_accuracy: 0.9333\n",
      "Epoch 29/100\n",
      "8/8 [==============================] - 0s 11ms/step - loss: 0.0763 - accuracy: 0.9833 - val_loss: 0.1627 - val_accuracy: 0.9333\n",
      "Epoch 30/100\n",
      "8/8 [==============================] - 0s 13ms/step - loss: 0.0768 - accuracy: 0.9833 - val_loss: 0.1657 - val_accuracy: 0.9000\n",
      "Epoch 31/100\n",
      "8/8 [==============================] - 0s 11ms/step - loss: 0.0708 - accuracy: 0.9833 - val_loss: 0.1613 - val_accuracy: 0.9333\n",
      "Epoch 32/100\n",
      "8/8 [==============================] - 0s 11ms/step - loss: 0.0744 - accuracy: 0.9833 - val_loss: 0.1671 - val_accuracy: 0.9000\n",
      "Epoch 33/100\n",
      "8/8 [==============================] - 0s 10ms/step - loss: 0.0715 - accuracy: 0.9750 - val_loss: 0.1589 - val_accuracy: 0.9667\n",
      "Epoch 34/100\n",
      "8/8 [==============================] - 2s 286ms/step - loss: 0.0657 - accuracy: 0.9833 - val_loss: 0.1614 - val_accuracy: 0.9333\n",
      "Epoch 35/100\n",
      "8/8 [==============================] - 0s 10ms/step - loss: 0.0644 - accuracy: 0.9917 - val_loss: 0.1596 - val_accuracy: 0.9333\n",
      "Epoch 36/100\n",
      "8/8 [==============================] - 0s 9ms/step - loss: 0.0653 - accuracy: 0.9833 - val_loss: 0.1593 - val_accuracy: 0.9333\n",
      "Epoch 37/100\n",
      "8/8 [==============================] - 0s 11ms/step - loss: 0.0619 - accuracy: 0.9917 - val_loss: 0.1600 - val_accuracy: 0.9333\n",
      "Epoch 38/100\n",
      "8/8 [==============================] - 0s 11ms/step - loss: 0.0595 - accuracy: 0.9833 - val_loss: 0.1577 - val_accuracy: 0.9667\n",
      "Epoch 39/100\n",
      "8/8 [==============================] - 0s 11ms/step - loss: 0.0590 - accuracy: 0.9833 - val_loss: 0.1608 - val_accuracy: 0.9000\n",
      "Epoch 40/100\n",
      "8/8 [==============================] - 0s 9ms/step - loss: 0.0612 - accuracy: 0.9917 - val_loss: 0.1576 - val_accuracy: 0.9667\n",
      "Epoch 41/100\n",
      "8/8 [==============================] - 0s 16ms/step - loss: 0.0563 - accuracy: 0.9833 - val_loss: 0.1577 - val_accuracy: 0.9667\n",
      "Epoch 42/100\n",
      "8/8 [==============================] - 0s 11ms/step - loss: 0.0556 - accuracy: 0.9833 - val_loss: 0.1578 - val_accuracy: 0.9667\n",
      "Epoch 43/100\n",
      "8/8 [==============================] - 0s 11ms/step - loss: 0.0557 - accuracy: 0.9917 - val_loss: 0.1582 - val_accuracy: 0.9667\n",
      "Epoch 44/100\n",
      "8/8 [==============================] - 0s 9ms/step - loss: 0.0562 - accuracy: 0.9833 - val_loss: 0.1587 - val_accuracy: 0.9667\n",
      "Epoch 45/100\n",
      "8/8 [==============================] - 0s 11ms/step - loss: 0.0566 - accuracy: 0.9917 - val_loss: 0.1614 - val_accuracy: 0.9000\n",
      "Epoch 46/100\n",
      "8/8 [==============================] - 0s 9ms/step - loss: 0.0527 - accuracy: 0.9917 - val_loss: 0.1636 - val_accuracy: 0.9333\n",
      "Epoch 47/100\n",
      "8/8 [==============================] - 0s 9ms/step - loss: 0.0557 - accuracy: 0.9833 - val_loss: 0.1586 - val_accuracy: 0.9667\n",
      "Epoch 48/100\n",
      "8/8 [==============================] - 0s 11ms/step - loss: 0.0532 - accuracy: 0.9833 - val_loss: 0.1587 - val_accuracy: 0.9667\n",
      "Epoch 49/100\n",
      "8/8 [==============================] - 0s 18ms/step - loss: 0.0529 - accuracy: 0.9833 - val_loss: 0.1595 - val_accuracy: 0.9667\n",
      "Epoch 50/100\n",
      "8/8 [==============================] - 0s 18ms/step - loss: 0.0544 - accuracy: 0.9833 - val_loss: 0.1595 - val_accuracy: 0.9667\n",
      "Epoch 51/100\n",
      "8/8 [==============================] - 0s 18ms/step - loss: 0.0541 - accuracy: 0.9750 - val_loss: 0.1596 - val_accuracy: 0.9333\n",
      "Epoch 52/100\n",
      "8/8 [==============================] - 0s 19ms/step - loss: 0.0506 - accuracy: 0.9833 - val_loss: 0.1617 - val_accuracy: 0.9667\n",
      "Epoch 53/100\n",
      "8/8 [==============================] - 0s 20ms/step - loss: 0.0518 - accuracy: 0.9833 - val_loss: 0.1602 - val_accuracy: 0.9667\n",
      "Epoch 54/100\n",
      "8/8 [==============================] - 0s 18ms/step - loss: 0.0600 - accuracy: 0.9750 - val_loss: 0.1609 - val_accuracy: 0.9667\n",
      "Epoch 55/100\n",
      "8/8 [==============================] - 0s 17ms/step - loss: 0.0454 - accuracy: 0.9833 - val_loss: 0.1630 - val_accuracy: 0.9000\n",
      "Epoch 56/100\n",
      "8/8 [==============================] - 0s 14ms/step - loss: 0.0456 - accuracy: 0.9917 - val_loss: 0.1619 - val_accuracy: 0.9667\n",
      "Epoch 57/100\n",
      "8/8 [==============================] - 0s 16ms/step - loss: 0.0449 - accuracy: 0.9833 - val_loss: 0.1618 - val_accuracy: 0.9333\n",
      "Epoch 58/100\n",
      "8/8 [==============================] - 0s 17ms/step - loss: 0.0494 - accuracy: 0.9833 - val_loss: 0.1680 - val_accuracy: 0.9333\n",
      "Epoch 59/100\n",
      "8/8 [==============================] - 0s 15ms/step - loss: 0.0449 - accuracy: 0.9833 - val_loss: 0.1642 - val_accuracy: 0.9667\n",
      "Epoch 60/100\n",
      "8/8 [==============================] - 0s 16ms/step - loss: 0.0446 - accuracy: 0.9917 - val_loss: 0.1631 - val_accuracy: 0.9667\n",
      "Epoch 61/100\n",
      "8/8 [==============================] - 0s 16ms/step - loss: 0.0534 - accuracy: 0.9833 - val_loss: 0.1635 - val_accuracy: 0.9667\n",
      "Epoch 62/100\n",
      "8/8 [==============================] - 0s 18ms/step - loss: 0.0461 - accuracy: 0.9833 - val_loss: 0.1638 - val_accuracy: 0.9333\n",
      "Epoch 63/100\n",
      "8/8 [==============================] - 0s 20ms/step - loss: 0.0426 - accuracy: 0.9833 - val_loss: 0.1643 - val_accuracy: 0.9667\n",
      "Epoch 64/100\n",
      "8/8 [==============================] - 0s 22ms/step - loss: 0.0418 - accuracy: 0.9833 - val_loss: 0.1648 - val_accuracy: 0.9333\n",
      "Epoch 65/100\n",
      "8/8 [==============================] - 0s 9ms/step - loss: 0.0524 - accuracy: 0.9750 - val_loss: 0.1657 - val_accuracy: 0.9667\n",
      "Epoch 66/100\n",
      "8/8 [==============================] - 0s 11ms/step - loss: 0.0502 - accuracy: 0.9833 - val_loss: 0.1662 - val_accuracy: 0.9667\n",
      "Epoch 67/100\n",
      "8/8 [==============================] - 0s 17ms/step - loss: 0.0682 - accuracy: 0.9833 - val_loss: 0.1656 - val_accuracy: 0.9667\n",
      "Epoch 68/100\n",
      "8/8 [==============================] - 0s 23ms/step - loss: 0.0470 - accuracy: 0.9750 - val_loss: 0.1661 - val_accuracy: 0.9333\n",
      "Epoch 69/100\n",
      "8/8 [==============================] - 0s 20ms/step - loss: 0.0625 - accuracy: 0.9750 - val_loss: 0.1663 - val_accuracy: 0.9667\n",
      "Epoch 70/100\n",
      "8/8 [==============================] - 0s 20ms/step - loss: 0.0381 - accuracy: 0.9917 - val_loss: 0.1769 - val_accuracy: 0.9000\n",
      "Epoch 71/100\n",
      "8/8 [==============================] - 0s 18ms/step - loss: 0.0428 - accuracy: 0.9917 - val_loss: 0.1732 - val_accuracy: 0.9333\n",
      "Epoch 72/100\n",
      "8/8 [==============================] - 0s 23ms/step - loss: 0.0412 - accuracy: 0.9833 - val_loss: 0.1678 - val_accuracy: 0.9667\n",
      "Epoch 73/100\n",
      "8/8 [==============================] - 0s 22ms/step - loss: 0.0387 - accuracy: 0.9917 - val_loss: 0.1685 - val_accuracy: 0.9667\n",
      "Epoch 74/100\n",
      "8/8 [==============================] - 0s 14ms/step - loss: 0.0400 - accuracy: 0.9833 - val_loss: 0.1692 - val_accuracy: 0.9667\n",
      "Epoch 75/100\n",
      "8/8 [==============================] - 0s 22ms/step - loss: 0.0389 - accuracy: 0.9833 - val_loss: 0.1726 - val_accuracy: 0.9333\n",
      "Epoch 76/100\n",
      "8/8 [==============================] - 0s 19ms/step - loss: 0.0378 - accuracy: 0.9917 - val_loss: 0.1698 - val_accuracy: 0.9667\n",
      "Epoch 77/100\n",
      "8/8 [==============================] - 0s 18ms/step - loss: 0.0545 - accuracy: 0.9833 - val_loss: 0.1707 - val_accuracy: 0.9667\n",
      "Epoch 78/100\n",
      "8/8 [==============================] - 0s 25ms/step - loss: 0.0726 - accuracy: 0.9583 - val_loss: 0.1701 - val_accuracy: 0.9667\n",
      "Epoch 79/100\n",
      "8/8 [==============================] - 0s 18ms/step - loss: 0.0348 - accuracy: 0.9833 - val_loss: 0.1884 - val_accuracy: 0.9333\n",
      "Epoch 80/100\n",
      "8/8 [==============================] - 0s 25ms/step - loss: 0.0393 - accuracy: 0.9833 - val_loss: 0.1702 - val_accuracy: 0.9333\n",
      "Epoch 81/100\n",
      "8/8 [==============================] - 0s 11ms/step - loss: 0.0364 - accuracy: 0.9917 - val_loss: 0.1718 - val_accuracy: 0.9667\n",
      "Epoch 82/100\n",
      "8/8 [==============================] - 0s 12ms/step - loss: 0.0371 - accuracy: 0.9833 - val_loss: 0.1717 - val_accuracy: 0.9667\n",
      "Epoch 83/100\n",
      "8/8 [==============================] - 0s 11ms/step - loss: 0.0415 - accuracy: 0.9750 - val_loss: 0.1829 - val_accuracy: 0.9333\n",
      "Epoch 84/100\n",
      "8/8 [==============================] - 0s 11ms/step - loss: 0.0442 - accuracy: 0.9833 - val_loss: 0.1716 - val_accuracy: 0.9333\n",
      "Epoch 85/100\n",
      "8/8 [==============================] - 0s 14ms/step - loss: 0.0399 - accuracy: 0.9833 - val_loss: 0.1719 - val_accuracy: 0.9333\n",
      "Epoch 86/100\n",
      "8/8 [==============================] - 0s 35ms/step - loss: 0.0334 - accuracy: 0.9917 - val_loss: 0.1831 - val_accuracy: 0.9333\n",
      "Epoch 87/100\n",
      "8/8 [==============================] - 0s 23ms/step - loss: 0.0428 - accuracy: 0.9833 - val_loss: 0.1732 - val_accuracy: 0.9333\n",
      "Epoch 88/100\n",
      "8/8 [==============================] - 0s 27ms/step - loss: 0.0651 - accuracy: 0.9667 - val_loss: 0.1739 - val_accuracy: 0.9000\n",
      "Epoch 89/100\n",
      "8/8 [==============================] - 0s 19ms/step - loss: 0.0674 - accuracy: 0.9750 - val_loss: 0.1955 - val_accuracy: 0.9333\n",
      "Epoch 90/100\n",
      "8/8 [==============================] - 0s 9ms/step - loss: 0.0515 - accuracy: 0.9750 - val_loss: 0.1746 - val_accuracy: 0.9000\n",
      "Epoch 91/100\n",
      "8/8 [==============================] - 0s 11ms/step - loss: 0.0567 - accuracy: 0.9833 - val_loss: 0.2175 - val_accuracy: 0.9333\n",
      "Epoch 92/100\n",
      "8/8 [==============================] - 0s 15ms/step - loss: 0.0364 - accuracy: 0.9917 - val_loss: 0.2201 - val_accuracy: 0.9000\n",
      "Epoch 93/100\n",
      "8/8 [==============================] - 0s 21ms/step - loss: 0.0372 - accuracy: 0.9917 - val_loss: 0.1962 - val_accuracy: 0.9333\n",
      "Epoch 94/100\n",
      "8/8 [==============================] - 0s 29ms/step - loss: 0.0407 - accuracy: 0.9833 - val_loss: 0.1749 - val_accuracy: 0.9667\n",
      "Epoch 95/100\n",
      "8/8 [==============================] - 0s 23ms/step - loss: 0.0357 - accuracy: 0.9917 - val_loss: 0.1745 - val_accuracy: 0.9333\n",
      "Epoch 96/100\n",
      "8/8 [==============================] - 0s 12ms/step - loss: 0.0401 - accuracy: 0.9833 - val_loss: 0.1747 - val_accuracy: 0.9333\n",
      "Epoch 97/100\n",
      "8/8 [==============================] - 0s 11ms/step - loss: 0.0321 - accuracy: 0.9833 - val_loss: 0.1859 - val_accuracy: 0.9333\n",
      "Epoch 98/100\n",
      "8/8 [==============================] - 0s 11ms/step - loss: 0.0386 - accuracy: 0.9833 - val_loss: 0.1750 - val_accuracy: 0.9333\n",
      "Epoch 99/100\n",
      "8/8 [==============================] - 0s 12ms/step - loss: 0.0328 - accuracy: 0.9917 - val_loss: 0.1790 - val_accuracy: 0.9667\n",
      "Epoch 100/100\n",
      "8/8 [==============================] - 0s 13ms/step - loss: 0.0345 - accuracy: 0.9917 - val_loss: 0.1763 - val_accuracy: 0.9333\n",
      "1/1 [==============================] - 0s 62ms/step - loss: 0.1763 - accuracy: 0.9333\n",
      "Loss: 0.176\n",
      "Accuracy: 0.933\n"
     ]
    }
   ],
   "source": [
    "model = Sequential()\n",
    "model.add(Dense(units=64, activation='relu'))\n",
    "model.add(Dense(units=128, activation='relu'))\n",
    "model.add(Dense(units=3, activation = 'softmax'))\n",
    "model.compile(optimizer='adam', loss='categorical_crossentropy', metrics=['accuracy'])\n",
    "model.fit(x_train , y_train,batch_size=16,epochs=100,validation_data=(x_test , y_test))\n",
    "scores = model.evaluate(x_test , y_test)\n",
    "print('Loss: %.3f' % scores[0])\n",
    "print('Accuracy: %.3f' % scores[1])\n",
    "\n"
   ]
  },
  {
   "cell_type": "code",
   "execution_count": null,
   "id": "00539349-ae23-49e4-93c1-f7aab0aa6990",
   "metadata": {},
   "outputs": [],
   "source": []
  },
  {
   "cell_type": "code",
   "execution_count": null,
   "id": "5b958513-5c7b-4e56-aecb-aa2a3a43903e",
   "metadata": {},
   "outputs": [],
   "source": []
  },
  {
   "cell_type": "code",
   "execution_count": null,
   "id": "bf56b714-06ed-4230-81df-01f5b74dfcc3",
   "metadata": {},
   "outputs": [],
   "source": []
  }
 ],
 "metadata": {
  "kernelspec": {
   "display_name": "Python 3 (ipykernel)",
   "language": "python",
   "name": "python3"
  },
  "language_info": {
   "codemirror_mode": {
    "name": "ipython",
    "version": 3
   },
   "file_extension": ".py",
   "mimetype": "text/x-python",
   "name": "python",
   "nbconvert_exporter": "python",
   "pygments_lexer": "ipython3",
   "version": "3.9.18"
  }
 },
 "nbformat": 4,
 "nbformat_minor": 5
}
