{
 "cells": [
  {
   "cell_type": "code",
   "execution_count": 1,
   "id": "07674dc7",
   "metadata": {},
   "outputs": [
    {
     "name": "stdout",
     "output_type": "stream",
     "text": [
      "Cut-off score: 5\n",
      "Accuracy: 0.62, Precision: 0.50, Recall: 0.33\n",
      "\n",
      "Cut-off score: 3\n",
      "Accuracy: 0.75, Precision: 0.67, Recall: 0.67\n",
      "\n",
      "Cut-off score: 1\n",
      "Accuracy: 0.50, Precision: 0.40, Recall: 0.67\n",
      "\n",
      "Cut-off score: -3\n",
      "Accuracy: 0.38, Precision: 0.33, Recall: 0.67\n",
      "\n",
      "Cut-off score: -6\n",
      "Accuracy: 0.38, Precision: 0.38, Recall: 1.00\n",
      "\n"
     ]
    }
   ],
   "source": [
    "import numpy as np\n",
    "\n",
    "# Define the test examples\n",
    "test_examples = {\n",
    "    'X1': {'true_class': '+1', 'score': 7},\n",
    "    'X2': {'true_class': '+1', 'score': 4},\n",
    "    'X3': {'true_class': '-1', 'score': 2},\n",
    "    'X4': {'true_class': '-1', 'score': 1},\n",
    "    'X5': {'true_class': '-1', 'score': -1},\n",
    "    'X6': {'true_class': '+1', 'score': -4},\n",
    "    'X7': {'true_class': '-1', 'score': 5},\n",
    "    'X8': {'true_class': '-1', 'score': -6}\n",
    "}\n",
    "\n",
    "# Function to classify test examples based on a given cut-off score\n",
    "def classify_test_examples(cut_off_score):\n",
    "    classified_examples = {}\n",
    "    for key, value in test_examples.items():\n",
    "        if value['score'] >= cut_off_score:\n",
    "            classified_examples[key] = '+1'\n",
    "        else:\n",
    "            classified_examples[key] = '-1'\n",
    "    return classified_examples\n",
    "\n",
    "# Function to compute accuracy, precision, and recall\n",
    "def compute_metrics(classified_examples):\n",
    "    true_positives = sum(1 for key, value in classified_examples.items() if value == '+1' and test_examples[key]['true_class'] == '+1')\n",
    "    false_positives = sum(1 for key, value in classified_examples.items() if value == '+1' and test_examples[key]['true_class'] == '-1')\n",
    "    true_negatives = sum(1 for key, value in classified_examples.items() if value == '-1' and test_examples[key]['true_class'] == '-1')\n",
    "    false_negatives = sum(1 for key, value in classified_examples.items() if value == '-1' and test_examples[key]['true_class'] == '+1')\n",
    "\n",
    "    accuracy = (true_positives + true_negatives) / len(test_examples)\n",
    "    precision = true_positives / (true_positives + false_positives) if (true_positives + false_positives) > 0 else 0\n",
    "    recall = true_positives / (true_positives + false_negatives) if (true_positives + false_negatives) > 0 else 0\n",
    "\n",
    "    return accuracy, precision, recall\n",
    "\n",
    "# List of cut-off score values\n",
    "cut_off_scores = [5, 3, 1, -3, -6]\n",
    "\n",
    "# Compute metrics for each cut-off score value\n",
    "for cut_off_score in cut_off_scores:\n",
    "    classified_examples = classify_test_examples(cut_off_score)\n",
    "    accuracy, precision, recall = compute_metrics(classified_examples)\n",
    "    print(f\"Cut-off score: {cut_off_score}\")\n",
    "    print(f\"Accuracy: {accuracy:.2f}, Precision: {precision:.2f}, Recall: {recall:.2f}\")\n",
    "    print()\n"
   ]
  },
  {
   "cell_type": "code",
   "execution_count": null,
   "id": "1a640bfe",
   "metadata": {},
   "outputs": [],
   "source": []
  },
  {
   "cell_type": "code",
   "execution_count": null,
   "id": "ad54e9b9",
   "metadata": {},
   "outputs": [],
   "source": []
  },
  {
   "cell_type": "code",
   "execution_count": null,
   "id": "bea10845",
   "metadata": {},
   "outputs": [],
   "source": []
  },
  {
   "cell_type": "code",
   "execution_count": null,
   "id": "03740190",
   "metadata": {},
   "outputs": [],
   "source": []
  },
  {
   "cell_type": "code",
   "execution_count": null,
   "id": "e3653f5e",
   "metadata": {},
   "outputs": [],
   "source": []
  },
  {
   "cell_type": "code",
   "execution_count": null,
   "id": "c500a11f",
   "metadata": {},
   "outputs": [],
   "source": []
  },
  {
   "cell_type": "code",
   "execution_count": null,
   "id": "5046e7dd",
   "metadata": {},
   "outputs": [],
   "source": []
  },
  {
   "cell_type": "code",
   "execution_count": null,
   "id": "b5630524",
   "metadata": {},
   "outputs": [],
   "source": []
  },
  {
   "cell_type": "code",
   "execution_count": null,
   "id": "be44baf9",
   "metadata": {},
   "outputs": [],
   "source": []
  },
  {
   "cell_type": "code",
   "execution_count": null,
   "id": "be74cad4",
   "metadata": {},
   "outputs": [],
   "source": []
  },
  {
   "cell_type": "code",
   "execution_count": null,
   "id": "e5bc5bce",
   "metadata": {},
   "outputs": [],
   "source": []
  }
 ],
 "metadata": {
  "kernelspec": {
   "display_name": "Python 3 (ipykernel)",
   "language": "python",
   "name": "python3"
  },
  "language_info": {
   "codemirror_mode": {
    "name": "ipython",
    "version": 3
   },
   "file_extension": ".py",
   "mimetype": "text/x-python",
   "name": "python",
   "nbconvert_exporter": "python",
   "pygments_lexer": "ipython3",
   "version": "3.9.13"
  }
 },
 "nbformat": 4,
 "nbformat_minor": 5
}
