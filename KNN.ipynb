{
 "cells": [
  {
   "cell_type": "markdown",
   "id": "807353e9",
   "metadata": {},
   "source": [
    "# KNN"
   ]
  },
  {
   "cell_type": "code",
   "execution_count": null,
   "id": "582f37f8",
   "metadata": {},
   "outputs": [],
   "source": [
    "'''\n",
    "KNNImputer est une classe de la bibliothèque scikit-learn en Python, utilisée pour imputer les valeurs manquantes\n",
    "dans un ensemble de données en utilisant l'algorithme k-plus proches voisins (KNN). L'idée de base est de remplacer\n",
    "les valeurs manquantes par des valeurs basées sur les valeurs des voisins les plus proches dans l'espace \n",
    "des caractéristiques.\n",
    "'''"
   ]
  },
  {
   "cell_type": "code",
   "execution_count": 2,
   "id": "7a80db32",
   "metadata": {},
   "outputs": [
    {
     "name": "stdout",
     "output_type": "stream",
     "text": [
      "   feature1  feature2\n",
      "0       1.0       4.0\n",
      "1       2.0       5.0\n",
      "2       3.0       6.0\n",
      "3       4.0       7.0\n",
      "4       5.0       8.0\n"
     ]
    },
    {
     "data": {
      "text/plain": [
       "array([[1., 4.],\n",
       "       [2., 5.],\n",
       "       [3., 6.],\n",
       "       [4., 7.],\n",
       "       [5., 8.]])"
      ]
     },
     "execution_count": 2,
     "metadata": {},
     "output_type": "execute_result"
    }
   ],
   "source": [
    "from sklearn.impute import KNNImputer\n",
    "import pandas as pd\n",
    "\n",
    "# Exemple de données avec des valeurs manquantes\n",
    "data = {'feature1': [1, 2, 3, None, 5],\n",
    "        'feature2': [4, None, 6, 7, 8]}\n",
    "df = pd.DataFrame(data)\n",
    "'''\n",
    "On crée une instance de la classe KNNImputer avec n_neighbors=2. Cela signifie que lors de l'imputation des valeurs\n",
    "manquantes, l'algorithme considérera les deux voisins les plus proches pour estimer \n",
    "les valeurs manquantes. Vous pouvez ajuster la valeur de n_neighbors en fonction de vos besoins spécifiques.\n",
    "'''\n",
    "# Création d'une instance de KNNImputer\n",
    "imputer = KNNImputer(n_neighbors=2)\n",
    "'''\n",
    "imputer.fit_transform(df): Cette partie de la ligne utilise la méthode fit_transform de l'objet imputer. \n",
    "La méthode fit_transform ajuste le modèle sur les données \n",
    "(en trouvant les voisins les plus proches) et effectue l'imputation en même temps. Elle renvoie le DataFrame imputé.\n",
    "'''\n",
    "# Imputation des valeurs manquantes\n",
    "df_imputed = pd.DataFrame(imputer.fit_transform(df), columns=df.columns)\n",
    "'''\n",
    "la variable df_imputed contient maintenant le DataFrame avec les valeurs manquantes imputées à l'aide de l'algorithme KNN. \n",
    "'''\n",
    "# Affichage du DataFrame après imputation\n",
    "print(df_imputed)\n",
    "a=imputer.fit_transform(df)#array()\n",
    "a"
   ]
  },
  {
   "cell_type": "code",
   "execution_count": null,
   "id": "d236bd25",
   "metadata": {},
   "outputs": [],
   "source": []
  }
 ],
 "metadata": {
  "kernelspec": {
   "display_name": "Python 3 (ipykernel)",
   "language": "python",
   "name": "python3"
  },
  "language_info": {
   "codemirror_mode": {
    "name": "ipython",
    "version": 3
   },
   "file_extension": ".py",
   "mimetype": "text/x-python",
   "name": "python",
   "nbconvert_exporter": "python",
   "pygments_lexer": "ipython3",
   "version": "3.9.13"
  }
 },
 "nbformat": 4,
 "nbformat_minor": 5
}
